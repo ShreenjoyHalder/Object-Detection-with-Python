{
  "nbformat": 4,
  "nbformat_minor": 0,
  "metadata": {
    "colab": {
      "provenance": [],
      "gpuType": "T4"
    },
    "kernelspec": {
      "name": "python3",
      "display_name": "Python 3"
    },
    "language_info": {
      "name": "python"
    },
    "accelerator": "GPU"
  },
  "cells": [
    {
      "cell_type": "code",
      "execution_count": null,
      "metadata": {
        "id": "MBB_r2ZjYxcU"
      },
      "outputs": [],
      "source": [
        "import numpy as np\n",
        "import matplotlib.pyplot as plt\n",
        "import PIL.Image, PIL.ImageFont, PIL.ImageDraw\n",
        "import tensorflow as tf\n",
        "import tensorflow_datasets as tfds\n",
        "import os"
      ]
    },
    {
      "cell_type": "code",
      "source": [
        "width=75\n",
        "height=75\n",
        "normalized_coordinates=True"
      ],
      "metadata": {
        "id": "0s6JVXmTauzK"
      },
      "execution_count": null,
      "outputs": []
    },
    {
      "cell_type": "markdown",
      "source": [
        " ### Draws a bounding box on an image (optionally with labels) using given coordinates."
      ],
      "metadata": {
        "id": "RMJ1o0tVAPJT"
      }
    },
    {
      "cell_type": "code",
      "source": [
        "def draw_bb_on_img(rgb_img, xmin, ymin, xmax, ymax, colour=\"red\", thickness=1,\n",
        "               display_str_list=(), normalized_coordinates=True):\n",
        "  draw=PIL.ImageDraw.Draw(rgb_img)\n",
        "  width, height=rgb_img.size\n",
        "  if normalized_coordinates:\n",
        "    (left, right, top, bottom)=(xmin*width, xmax*width, ymin*height, ymax*height)\n",
        "  else:\n",
        "    (left, right, top, bottom)=(xmin, xmax, ymin, ymax)\n",
        "  draw.line([(top, left), (bottom, left), (bottom, right), (top, right), (top, left)],\n",
        "            width=thickness,\n",
        "            fill=colour)"
      ],
      "metadata": {
        "id": "dZUEqO3Idl9c"
      },
      "execution_count": null,
      "outputs": []
    },
    {
      "cell_type": "markdown",
      "source": [
        "### Draws multiple bounding boxes on an image."
      ],
      "metadata": {
        "id": "Qu8ZMVy_G5OD"
      }
    },
    {
      "cell_type": "code",
      "source": [
        "def draw_bbs_on_img(rgb_img, b, colour=[], thickness=1, display_str_list=()):\n",
        "  boxes_shape=b.shape\n",
        "  if not boxes_shape:\n",
        "    return\n",
        "  if len(boxes_shape)!=2 or boxes_shape[1]!=4:\n",
        "    raise ValueError(\"Input must be of size [N, 4]\")\n",
        "  for i in range(boxes_shape[0]):\n",
        "    draw_bb_on_img(rgb_img, b[i, 1], b[i, 0], b[i, 3], b[i, 2],\n",
        "                   colour[i], thickness, display_str_list[i])"
      ],
      "metadata": {
        "id": "TE1CeQXmcFM7"
      },
      "execution_count": null,
      "outputs": []
    },
    {
      "cell_type": "markdown",
      "source": [
        "### Draw multiple bounding boxes on a NumPy image array and return the modified image as a NumPy array."
      ],
      "metadata": {
        "id": "O0a_TOHCHNjM"
      }
    },
    {
      "cell_type": "code",
      "source": [
        "def draw_bbs_on_img_array(img, b, colour=[], thickness=1, display_str_list=()):\n",
        "  img_PIL=PIL.Image.fromarray(img)\n",
        "  rgb_img=PIL.Image.new(\"RGBA\", img_PIL.size)\n",
        "  rgb_img.paste(img_PIL)\n",
        "  draw_bbs_on_img(rgb_img, b, colour, thickness, display_str_list)\n",
        "  return np.array(rgb_img)"
      ],
      "metadata": {
        "id": "sYlltuVWbJFS"
      },
      "execution_count": null,
      "outputs": []
    },
    {
      "cell_type": "markdown",
      "source": [
        "### Converts a TensorFlow dataset (`train_ds`, `val_ds`, `test_ds`) into NumPy arrays — extracting one batch from each split."
      ],
      "metadata": {
        "id": "JMdR-g87H6V4"
      }
    },
    {
      "cell_type": "code",
      "source": [
        "def dataset_to_numpy(train_ds, val_ds, test_ds, N):\n",
        "\n",
        "  batch_train_ds=train_ds.unbatch().batch(N)\n",
        "\n",
        "  if tf.executing_eagerly():\n",
        "    for val_digits, (val_labels, val_boxes) in val_ds:\n",
        "      val_digits=val_digits.numpy()\n",
        "      val_labels=val_labels.numpy()\n",
        "      val_boxes=val_boxes.numpy()\n",
        "      break\n",
        "    for train_digits, (train_labels, train_boxes) in batch_train_ds:\n",
        "      train_digits=train_digits.numpy()\n",
        "      train_labels=train_labels.numpy()\n",
        "      train_boxes=train_boxes.numpy()\n",
        "      break\n",
        "    for test_digits, (test_labels, test_boxes) in test_ds:\n",
        "      test_digits=test_digits.numpy()\n",
        "      test_labels=test_labels.numpy()\n",
        "      test_boxes=test_boxes.numpy()\n",
        "      break\n",
        "\n",
        "  if len(val_labels.shape)>1:\n",
        "    val_labels=np.argmax(val_labels, axis=1)\n",
        "  if len(train_labels.shape)>1:\n",
        "    train_labels=np.argmax(train_labels, axis=1)\n",
        "  if len(test_labels.shape)>1:\n",
        "    test_labels=np.argmax(test_labels, axis=1)\n",
        "\n",
        "  return (val_digits, val_labels, val_boxes,\n",
        "          train_digits, train_labels, train_boxes,\n",
        "          test_digits, test_labels, test_boxes)"
      ],
      "metadata": {
        "id": "DH7AJeN7frFV"
      },
      "execution_count": null,
      "outputs": []
    },
    {
      "cell_type": "markdown",
      "source": [
        "### Draw multiple bounding boxes (and optionally labels) on a NumPy image array and return the modified image as a NumPy array."
      ],
      "metadata": {
        "id": "UjKPJ-CFIfoH"
      }
    },
    {
      "cell_type": "code",
      "source": [
        "plt_font_dir=os.path.join(os.path.dirname(plt.__file__), \"mpl-data/fonts/ttf\")\n",
        "\n",
        "def create_digit_from_local_fonts(n):\n",
        "\n",
        "  font_labels=[]\n",
        "  img=PIL.Image.new(\"LA\", (75*n, 75), color=(0, 255))\n",
        "  font1=PIL.ImageFont.truetype(os.path.join(plt_font_dir, \"DejaVuSansMono-Oblique.ttf\"), 25)\n",
        "  font2=PIL.ImageFont.truetype(os.path.join(plt_font_dir, \"STIXGeneral.ttf\"), 25)\n",
        "  d=PIL.ImageDraw.Draw(img)\n",
        "\n",
        "  for i in range(n):\n",
        "    font_labels.append(i%10)\n",
        "    d.text((7+i*75, 0 if i<10 else -4), str(i%10), fill=(255, 255), font=font1 if i<10 else font2)\n",
        "\n",
        "  font_digits=np.array(img, np.float32)[:, 0]/255\n",
        "  font_digits=np.reshape(np.stack(np.split(np.reshape(font_digits, [75, 75*n]), n, axis=1), axis=0))\n",
        "  return font_digits, font_labels"
      ],
      "metadata": {
        "id": "xkJWdu-3gbtT"
      },
      "execution_count": null,
      "outputs": []
    },
    {
      "cell_type": "markdown",
      "source": [
        "### Generates synthetic digit images using local system fonts (from matplotlib) and returns them as a NumPy array along with corresponding digit labels."
      ],
      "metadata": {
        "id": "yUqeijQvIQ4w"
      }
    },
    {
      "cell_type": "code",
      "source": [
        "def display_digits_with_boxes(digits, preds, labels, pred_boxes, boxes, iou, title, seed=16, iou_threshold=0.5):\n",
        "\n",
        "  n=10\n",
        "  row=1\n",
        "  column=10\n",
        "  np.random.seed(seed)\n",
        "  indexes=np.random.choice(len(digits), size=n, replace=False)\n",
        "  n_digits=digits[indexes]\n",
        "  n_preds=preds[indexes]\n",
        "  n_labels=labels[indexes]\n",
        "  n_iou=[]\n",
        "\n",
        "  if len(iou)>0:\n",
        "    n_iou=iou[indexes]\n",
        "  if len(pred_boxes)>0:\n",
        "    n_pred_boxes=pred_boxes[indexes]\n",
        "  if len(boxes)>0:\n",
        "    n_boxes=boxes[indexes]\n",
        "\n",
        "  n_digits=n_digits*255.0\n",
        "  n_digits=n_digits.reshape(n, 75, 75)\n",
        "  fig=plt.figure(figsize=(20, 5))\n",
        "  plt.title(title)\n",
        "  plt.xticks([])\n",
        "  plt.yticks([])\n",
        "\n",
        "  for i in range(n):\n",
        "    ax=fig.add_subplot(row, column, i+1)\n",
        "    boxes_to_plot=[]\n",
        "    c=[]\n",
        "    dsl=[]\n",
        "    if len(boxes)>i:\n",
        "      boxes_to_plot.append(n_boxes[i])\n",
        "      c.append(\"red\")\n",
        "      dsl.append(\"True\")\n",
        "    if len(pred_boxes)>i:\n",
        "      boxes_to_plot.append(n_pred_boxes[i])\n",
        "      c.append(\"blue\")\n",
        "      dsl.append(\"Prediction\")\n",
        "\n",
        "    img_to_draw=draw_bbs_on_img_array(img=n_digits[i],\n",
        "                                      b=np.asarray(boxes_to_plot),\n",
        "                                      colour=c,\n",
        "                                      display_str_list=dsl)\n",
        "    ax.set_xlabel(f\"True : {n_labels[i]}\\nPredicted : {n_preds[i]}\")\n",
        "    plt.xticks([])\n",
        "    plt.yticks([])\n",
        "\n",
        "    if n_preds[i]!=n_labels[i]:\n",
        "      ax.xaxis.label.set_color('red')\n",
        "\n",
        "    plt.imshow(img_to_draw)\n",
        "\n",
        "    if len(iou)>i:\n",
        "      colour=\"black\"\n",
        "      if n_iou[i][0]<iou_threshold:\n",
        "        colour=\"orange\"\n",
        "      ax.text(0.2, -0.5, \"iou : %s\"%(n_iou[i][0]), color=colour, transform=ax.transAxes)"
      ],
      "metadata": {
        "id": "F70Zvt17ggIA"
      },
      "execution_count": null,
      "outputs": []
    },
    {
      "cell_type": "markdown",
      "source": [
        "### To plot training and validation metrics from a Keras `history` object."
      ],
      "metadata": {
        "id": "n5yiWnM6Il4G"
      }
    },
    {
      "cell_type": "code",
      "source": [
        "def plot_metrics(history, metric_name, title):\n",
        "  plt.title(title)\n",
        "  plt.plot(history.history[metric_name], \"b.-\", label=metric_name)\n",
        "  plt.plot(history.history[\"val_\"+metric_name], \"r.-\", label=\"val_\"+metric_name)"
      ],
      "metadata": {
        "id": "QWjz34tJgzjv"
      },
      "execution_count": null,
      "outputs": []
    },
    {
      "cell_type": "markdown",
      "source": [
        "### Preprocesses an image-label pair from a TensorFlow Datasets (TFDS) digit dataset (like MNIST) by:\n",
        "\n",
        "- Placing the `28x28` digit randomly inside a `75x75` canvas.\n",
        "\n",
        "- Normalizing pixel values and computing a bounding box.\n",
        "\n",
        "- Returning the padded image, one-hot label, and bounding box."
      ],
      "metadata": {
        "id": "w-RHVJZKJFpe"
      }
    },
    {
      "cell_type": "code",
      "source": [
        "def read_image_tfds(img, label):\n",
        "\n",
        "  xmin=tf.random.uniform((), 0, 48, dtype=tf.int32)\n",
        "  ymin=tf.random.uniform((), 0, 48, dtype=tf.int32)\n",
        "\n",
        "  img=tf.reshape(img, (28, 28, 1))\n",
        "  img=tf.image.pad_to_bounding_box(img, ymin, xmin, 75, 75)\n",
        "  img=tf.cast(img, tf.float32)/255.0\n",
        "\n",
        "  xmin=tf.cast(xmin, tf.float32)\n",
        "  ymin=tf.cast(ymin, tf.float32)\n",
        "\n",
        "  xmax=(xmin+28)/75\n",
        "  ymax=(ymin+28)/75\n",
        "  xmin=xmin/75\n",
        "  ymin=ymin/75\n",
        "\n",
        "  box=tf.stack([xmin, ymin, xmax, ymax])\n",
        "  return img, (tf.one_hot(label, 10), box)"
      ],
      "metadata": {
        "id": "6VFjqWT1hGpz"
      },
      "execution_count": null,
      "outputs": []
    },
    {
      "cell_type": "markdown",
      "source": [
        "- `tf.distribute.get_strategy()` retrieves the default distribution strategy.\n",
        "- `strategy.num_replicas_in_sync` tells you how many devices (replicas) are working in parallel under that strategy."
      ],
      "metadata": {
        "id": "nx-i1NonJtzJ"
      }
    },
    {
      "cell_type": "code",
      "source": [
        "strategy=tf.distribute.get_strategy()\n",
        "strategy.num_replicas_in_sync"
      ],
      "metadata": {
        "id": "eZqn6_H5hKCJ"
      },
      "execution_count": null,
      "outputs": []
    },
    {
      "cell_type": "code",
      "source": [
        "BATCH_SIZE=64*strategy.num_replicas_in_sync\n",
        "BATCH_SIZE"
      ],
      "metadata": {
        "id": "fbdYcM7FhMBV"
      },
      "execution_count": null,
      "outputs": []
    },
    {
      "cell_type": "code",
      "source": [
        "# base_ds=\"mnist\"\n",
        "# base_ds=\"fashion_mnist\"\n",
        "base_ds=\"kmnist\""
      ],
      "metadata": {
        "id": "GvHfofLiN-TH"
      },
      "execution_count": null,
      "outputs": []
    },
    {
      "cell_type": "markdown",
      "source": [
        "### These functions create TensorFlow input pipelines for training, validation, and testing datasets using `tf.data` and `tf.distribute.Strategy` for distributed training."
      ],
      "metadata": {
        "id": "LThoJM4YKKy2"
      }
    },
    {
      "cell_type": "code",
      "source": [
        "def get_train_ds():\n",
        "\n",
        "  with strategy.scope():\n",
        "    ds=tfds.load(base_ds, split=\"train[:80%]\", as_supervised=True, try_gcs=True)\n",
        "    ds=ds.map(read_image_tfds, num_parallel_calls=16)\n",
        "    ds.shuffle(5000, reshuffle_each_iteration=True)\n",
        "    ds=ds.repeat()\n",
        "    ds=ds.batch(BATCH_SIZE, drop_remainder=True)\n",
        "    ds=ds.prefetch(tf.data.AUTOTUNE)\n",
        "  return ds"
      ],
      "metadata": {
        "id": "SAiG2qEMhN2D"
      },
      "execution_count": null,
      "outputs": []
    },
    {
      "cell_type": "code",
      "source": [
        "def get_val_ds():\n",
        "\n",
        "  with strategy.scope():\n",
        "    ds=tfds.load(base_ds, split=\"train[80%:]\", as_supervised=True, try_gcs=True)\n",
        "    ds=ds.map(read_image_tfds, num_parallel_calls=16)\n",
        "    ds=ds.batch(10000, drop_remainder=True)\n",
        "  return ds"
      ],
      "metadata": {
        "id": "48xbPFNYhQe8"
      },
      "execution_count": null,
      "outputs": []
    },
    {
      "cell_type": "code",
      "source": [
        "def get_test_ds():\n",
        "\n",
        "  with strategy.scope():\n",
        "    ds=tfds.load(base_ds, split=\"test\", as_supervised=True, try_gcs=True)\n",
        "    ds=ds.map(read_image_tfds, num_parallel_calls=16)\n",
        "    ds=ds.batch(10000, drop_remainder=True)\n",
        "  return ds"
      ],
      "metadata": {
        "id": "bNQ5W2CwhSI2"
      },
      "execution_count": null,
      "outputs": []
    },
    {
      "cell_type": "markdown",
      "source": [
        "### This ensures that all variables and datasets created within the block are compatible with distributed training."
      ],
      "metadata": {
        "id": "YF8efhl3L_R-"
      }
    },
    {
      "cell_type": "code",
      "source": [
        "with strategy.scope():\n",
        "  train_ds=get_train_ds()\n",
        "  val_ds=get_val_ds()\n",
        "  test_ds=get_test_ds()"
      ],
      "metadata": {
        "id": "kId3uecShUST"
      },
      "execution_count": null,
      "outputs": []
    },
    {
      "cell_type": "markdown",
      "source": [
        "### Breaking the data"
      ],
      "metadata": {
        "id": "uioIFIplMnLG"
      }
    },
    {
      "cell_type": "code",
      "source": [
        "(val_digits, val_labels, val_boxes,\n",
        " train_digits, train_labels, train_boxes,\n",
        " test_digits, test_labels, test_boxes)=dataset_to_numpy(train_ds, val_ds, test_ds, 10)"
      ],
      "metadata": {
        "id": "Nyt2tNu2hWIr"
      },
      "execution_count": null,
      "outputs": []
    },
    {
      "cell_type": "markdown",
      "source": [
        "### Let us visualize a batch of the training data"
      ],
      "metadata": {
        "id": "xPC56Ty4M8WR"
      }
    },
    {
      "cell_type": "code",
      "source": [
        "display_digits_with_boxes(train_digits,\n",
        "                          train_labels,\n",
        "                          train_labels,  # predicted labels (same here)\n",
        "                          np.array([]),\n",
        "                          train_boxes,\n",
        "                          np.array([]),\n",
        "                          \"Training digits with labels\")"
      ],
      "metadata": {
        "id": "Ed6VvmPKhp02"
      },
      "execution_count": null,
      "outputs": []
    },
    {
      "cell_type": "markdown",
      "source": [
        "### This function defines a simple CNN-based feature extractor using TensorFlow Keras layers."
      ],
      "metadata": {
        "id": "62KnwLYMNdO2"
      }
    },
    {
      "cell_type": "code",
      "source": [
        "def feature_extraction(inputs):\n",
        "\n",
        "  x=tf.keras.layers.Conv2D(16, activation='relu', kernel_size=3, input_shape=(75, 75, 1))(inputs)\n",
        "  x=tf.keras.layers.AveragePooling2D((2, 2))(x)\n",
        "\n",
        "  x=tf.keras.layers.Conv2D(32, activation='relu', kernel_size=3)(x)\n",
        "  x=tf.keras.layers.AveragePooling2D((2, 2))(x)\n",
        "\n",
        "  x=tf.keras.layers.Conv2D(64, activation='relu', kernel_size=3)(x)\n",
        "  x=tf.keras.layers.AveragePooling2D((2, 2))(x)\n",
        "\n",
        "  return x"
      ],
      "metadata": {
        "id": "JsNT4bRhh5qm"
      },
      "execution_count": null,
      "outputs": []
    },
    {
      "cell_type": "markdown",
      "source": [
        "### This function defines a simple dense block (fully connected) for a neural network"
      ],
      "metadata": {
        "id": "0THhZhHZN0NY"
      }
    },
    {
      "cell_type": "code",
      "source": [
        "def dense_layers(inputs):\n",
        "\n",
        "  x=tf.keras.layers.Flatten()(inputs)\n",
        "  x=tf.keras.layers.Dense(128, activation='relu')(x)\n",
        "\n",
        "  return x"
      ],
      "metadata": {
        "id": "4eSpeWH-npRz"
      },
      "execution_count": null,
      "outputs": []
    },
    {
      "cell_type": "markdown",
      "source": [
        "### This function defines the classification head of the model."
      ],
      "metadata": {
        "id": "XZfOB2yxOS_C"
      }
    },
    {
      "cell_type": "code",
      "source": [
        "def classifier(inputs):\n",
        "\n",
        "  o_p=tf.keras.layers.Dense(10, activation='softmax', name='classification')(inputs)\n",
        "\n",
        "  return o_p"
      ],
      "metadata": {
        "id": "hqHqqbalnrNc"
      },
      "execution_count": null,
      "outputs": []
    },
    {
      "cell_type": "markdown",
      "source": [
        "### This defines the bounding box regression head of the model."
      ],
      "metadata": {
        "id": "3XrZOAXOOc6V"
      }
    },
    {
      "cell_type": "code",
      "source": [
        "def bounding_box_regression(inputs):\n",
        "\n",
        "  o_p=tf.keras.layers.Dense(4, name='bounding_box')(inputs)\n",
        "\n",
        "  return o_p"
      ],
      "metadata": {
        "id": "tgb-CGvfns4q"
      },
      "execution_count": null,
      "outputs": []
    },
    {
      "cell_type": "markdown",
      "source": [
        "### Sequential image augmentation pipeline using Keras preprocessing layers."
      ],
      "metadata": {
        "id": "8nqTMEKaOfl8"
      }
    },
    {
      "cell_type": "code",
      "source": [
        "img_aug=tf.keras.Sequential([\n",
        "    tf.keras.layers.RandomFlip('horizontal'),\n",
        "    tf.keras.layers.RandomRotation(0.2),\n",
        "    tf.keras.layers.RandomZoom(0.2),\n",
        "    tf.keras.layers.RandomContrast(0.2),\n",
        "    tf.keras.layers.RandomTranslation(0.1, 0.1)\n",
        "])"
      ],
      "metadata": {
        "id": "zUOopda2OdGT"
      },
      "execution_count": null,
      "outputs": []
    },
    {
      "cell_type": "markdown",
      "source": [
        "### Now let us build a multi-output neural network model."
      ],
      "metadata": {
        "id": "kTTWjjwDPAFM"
      }
    },
    {
      "cell_type": "code",
      "source": [
        "def model(inputs):\n",
        "\n",
        "  inputs=img_aug(inputs)\n",
        "  feature_cnn=feature_extraction(inputs)\n",
        "  dense_o_p=dense_layers(feature_cnn)\n",
        "  classification_o_p=classifier(dense_o_p)\n",
        "  bounding_box_o_p=bounding_box_regression(dense_o_p)\n",
        "\n",
        "  Model=tf.keras.Model(inputs=inputs, outputs=[classification_o_p, bounding_box_o_p])\n",
        "\n",
        "  return Model"
      ],
      "metadata": {
        "id": "nY3qzZbAnvL-"
      },
      "execution_count": null,
      "outputs": []
    },
    {
      "cell_type": "code",
      "source": [
        "def define_and_compile_model(inputs):\n",
        "\n",
        "  Model=model(inputs)\n",
        "  Model.compile(optimizer=\"adam\",\n",
        "                loss={\n",
        "                    \"classification\":\"categorical_crossentropy\",\n",
        "                    \"bounding_box\":\"mse\"\n",
        "                },\n",
        "                metrics={\n",
        "                    \"classification\":\"accuracy\",\n",
        "                    \"bounding_box\":\"mse\"\n",
        "                })\n",
        "\n",
        "  return Model"
      ],
      "metadata": {
        "id": "73kdqwpVnx8m"
      },
      "execution_count": null,
      "outputs": []
    },
    {
      "cell_type": "code",
      "source": [
        "lr_sched=tf.keras.callbacks.ReduceLROnPlateau(\n",
        "    monitor=\"val_loss\",\n",
        "    patience=3,\n",
        "    factor=0.5,\n",
        "    min_lr=1e-6,\n",
        "    verbose=1\n",
        ")"
      ],
      "metadata": {
        "id": "gc_MrA1BV0FU"
      },
      "execution_count": null,
      "outputs": []
    },
    {
      "cell_type": "code",
      "source": [
        "early_stop=tf.keras.callbacks.EarlyStopping(\n",
        "    monitor=\"val_loss\",\n",
        "    patience=5,\n",
        "    restore_best_weights=True,\n",
        "    verbose=1\n",
        ")"
      ],
      "metadata": {
        "id": "ZhNq4mrJWyaB"
      },
      "execution_count": null,
      "outputs": []
    },
    {
      "cell_type": "code",
      "source": [
        "with strategy.scope():\n",
        "  input=tf.keras.layers.Input(shape=(75, 75, 1))\n",
        "  Model=define_and_compile_model(input)\n",
        "\n",
        "Model.summary()"
      ],
      "metadata": {
        "id": "-0nD5Dyen1nX"
      },
      "execution_count": null,
      "outputs": []
    },
    {
      "cell_type": "markdown",
      "source": [
        "### Training phase"
      ],
      "metadata": {
        "id": "JuUHaED7PFmD"
      }
    },
    {
      "cell_type": "code",
      "source": [
        "EPOCHS=20\n",
        "steps_per_epoch=60000//BATCH_SIZE\n",
        "\n",
        "history=Model.fit(train_ds,\n",
        "                  steps_per_epoch=steps_per_epoch,\n",
        "                  validation_data=val_ds,\n",
        "                  validation_steps=1,\n",
        "                  epochs=EPOCHS,\n",
        "                  callbacks=[lr_sched, early_stop])\n",
        "\n",
        "loss, classification_loss, bounding_box_loss, classification_acc, bounding_box_mse=Model.evaluate(val_ds, steps=1)"
      ],
      "metadata": {
        "id": "KZFVlAYUn5Vf"
      },
      "execution_count": null,
      "outputs": []
    },
    {
      "cell_type": "markdown",
      "source": [
        "### Let us visualize the metrics"
      ],
      "metadata": {
        "id": "phAFXbCEPLa9"
      }
    },
    {
      "cell_type": "code",
      "source": [
        "plot_metrics(history, \"bounding_box_mse\", \"Bounding Box MSE\")"
      ],
      "metadata": {
        "id": "zWxVtsxhn-T5"
      },
      "execution_count": null,
      "outputs": []
    },
    {
      "cell_type": "code",
      "source": [
        "plot_metrics(history, \"classification_accuracy\", \"Classification Accuracy\")"
      ],
      "metadata": {
        "id": "a6uzYKMnslpY"
      },
      "execution_count": null,
      "outputs": []
    },
    {
      "cell_type": "code",
      "source": [
        "plot_metrics(history, \"classification_loss\", \"Classification Loss\")"
      ],
      "metadata": {
        "id": "ToTaxftHsobG"
      },
      "execution_count": null,
      "outputs": []
    },
    {
      "cell_type": "markdown",
      "source": [
        "### This function computes the Intersection over Union (IOU) between predicted and ground truth bounding boxes."
      ],
      "metadata": {
        "id": "Xlgou9eCPxi-"
      }
    },
    {
      "cell_type": "code",
      "source": [
        "def intersection_over_union(pred_box, true_box):\n",
        "\n",
        "  xmin_pred, ymin_pred, xmax_pred, ymax_pred=np.split(pred_box, 4, axis=1)\n",
        "  xmin_true, ymin_true, xmax_true, ymax_true=np.split(true_box, 4, axis=1)\n",
        "\n",
        "  smoothing_factor=1e-10\n",
        "\n",
        "  xmin_overlap=np.maximum(xmin_pred, xmin_true)\n",
        "  xmax_overlap=np.minimum(xmax_pred, xmax_true)\n",
        "  ymin_overlap=np.maximum(ymin_pred, ymin_true)\n",
        "  ymax_overlap=np.minimum(ymax_pred, ymax_true)\n",
        "\n",
        "  pred_box_area=(xmax_pred-xmin_pred)*(ymax_pred-ymin_pred)\n",
        "  true_box_area=(xmax_true-xmin_true)*(ymax_true-ymin_true)\n",
        "\n",
        "  overlap_area=np.maximum((xmax_overlap-xmin_overlap), 0)*np.maximum((ymax_overlap-ymin_overlap), 0)\n",
        "  union_area=pred_box_area+true_box_area-overlap_area\n",
        "\n",
        "  iou=(overlap_area+smoothing_factor)/(union_area+smoothing_factor)\n",
        "  iou=np.round(iou, 4)\n",
        "\n",
        "  return iou"
      ],
      "metadata": {
        "id": "yQ5UBQDksqVy"
      },
      "execution_count": null,
      "outputs": []
    },
    {
      "cell_type": "markdown",
      "source": [
        "### Let us make the predictions"
      ],
      "metadata": {
        "id": "Cbj_IlF5P30D"
      }
    },
    {
      "cell_type": "code",
      "source": [
        "from sklearn.metrics import accuracy_score"
      ],
      "metadata": {
        "id": "cmF4pntsTb5G"
      },
      "execution_count": null,
      "outputs": []
    },
    {
      "cell_type": "code",
      "source": [
        "prediction=Model.predict(val_digits, batch_size=BATCH_SIZE)\n",
        "predicted_labels=np.argmax(prediction[0], axis=1)\n",
        "predicted_boxes=prediction[1]"
      ],
      "metadata": {
        "id": "GzRaYMMCs5L1"
      },
      "execution_count": null,
      "outputs": []
    },
    {
      "cell_type": "code",
      "source": [
        "acc_v=accuracy_score(val_labels, predicted_labels)\n",
        "print(f\"Accuracy : {acc_v*100}%\")"
      ],
      "metadata": {
        "id": "z4sDpcXCQ8e4"
      },
      "execution_count": null,
      "outputs": []
    },
    {
      "cell_type": "code",
      "source": [
        "iou=intersection_over_union(predicted_boxes, val_boxes)\n",
        "display_digits_with_boxes(val_digits,\n",
        "                          predicted_labels,\n",
        "                          val_labels,\n",
        "                          predicted_boxes,\n",
        "                          val_boxes,\n",
        "                          iou,\n",
        "                          \"Actual and Predicted values for validation dataset\")"
      ],
      "metadata": {
        "id": "brTMbRnSta21"
      },
      "execution_count": null,
      "outputs": []
    },
    {
      "cell_type": "code",
      "source": [
        "prediction=Model.predict(test_digits, batch_size=BATCH_SIZE)\n",
        "predicted_labels=np.argmax(prediction[0], axis=1)\n",
        "predicted_boxes=prediction[1]"
      ],
      "metadata": {
        "id": "SO4koyiNuJH3"
      },
      "execution_count": null,
      "outputs": []
    },
    {
      "cell_type": "code",
      "source": [
        "acc_t=accuracy_score(test_labels, predicted_labels)\n",
        "print(f\"Accuracy : {acc_t*100}%\")"
      ],
      "metadata": {
        "id": "x_ryYxPRRBC2"
      },
      "execution_count": null,
      "outputs": []
    },
    {
      "cell_type": "code",
      "source": [
        "iou=intersection_over_union(predicted_boxes, test_boxes)\n",
        "display_digits_with_boxes(test_digits,\n",
        "                          predicted_labels,\n",
        "                          test_labels,\n",
        "                          predicted_boxes,\n",
        "                          test_boxes,\n",
        "                          iou,\n",
        "                          \"Actual and Predicted values for test dataset\")"
      ],
      "metadata": {
        "id": "-0nu61JkuOnI"
      },
      "execution_count": null,
      "outputs": []
    },
    {
      "cell_type": "code",
      "source": [],
      "metadata": {
        "id": "8Z_cx91WZmWp"
      },
      "execution_count": null,
      "outputs": []
    }
  ]
}