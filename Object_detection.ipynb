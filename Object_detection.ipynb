{
  "nbformat": 4,
  "nbformat_minor": 0,
  "metadata": {
    "colab": {
      "provenance": [],
      "gpuType": "T4"
    },
    "kernelspec": {
      "name": "python3",
      "display_name": "Python 3"
    },
    "language_info": {
      "name": "python"
    },
    "accelerator": "GPU",
    "widgets": {
      "application/vnd.jupyter.widget-state+json": {
        "bc9a408131834673aedfef11f6809f07": {
          "model_module": "@jupyter-widgets/controls",
          "model_name": "HBoxModel",
          "model_module_version": "1.5.0",
          "state": {
            "_dom_classes": [],
            "_model_module": "@jupyter-widgets/controls",
            "_model_module_version": "1.5.0",
            "_model_name": "HBoxModel",
            "_view_count": null,
            "_view_module": "@jupyter-widgets/controls",
            "_view_module_version": "1.5.0",
            "_view_name": "HBoxView",
            "box_style": "",
            "children": [
              "IPY_MODEL_63207d22fbb542f0885c9ca3e5d1e5f8",
              "IPY_MODEL_7036b069d2774d36a5074ca9f255b1df",
              "IPY_MODEL_412214f49ca5415fa1ded77d22d423a8"
            ],
            "layout": "IPY_MODEL_80612e323f7c48bd980676e5d7d5cae2"
          }
        },
        "63207d22fbb542f0885c9ca3e5d1e5f8": {
          "model_module": "@jupyter-widgets/controls",
          "model_name": "HTMLModel",
          "model_module_version": "1.5.0",
          "state": {
            "_dom_classes": [],
            "_model_module": "@jupyter-widgets/controls",
            "_model_module_version": "1.5.0",
            "_model_name": "HTMLModel",
            "_view_count": null,
            "_view_module": "@jupyter-widgets/controls",
            "_view_module_version": "1.5.0",
            "_view_name": "HTMLView",
            "description": "",
            "description_tooltip": null,
            "layout": "IPY_MODEL_1b4b006550f44be5b7eb26678f0c2bf7",
            "placeholder": "​",
            "style": "IPY_MODEL_af288696e56141dd8d7a0e9e363d8083",
            "value": "Dl Completed...: 100%"
          }
        },
        "7036b069d2774d36a5074ca9f255b1df": {
          "model_module": "@jupyter-widgets/controls",
          "model_name": "FloatProgressModel",
          "model_module_version": "1.5.0",
          "state": {
            "_dom_classes": [],
            "_model_module": "@jupyter-widgets/controls",
            "_model_module_version": "1.5.0",
            "_model_name": "FloatProgressModel",
            "_view_count": null,
            "_view_module": "@jupyter-widgets/controls",
            "_view_module_version": "1.5.0",
            "_view_name": "ProgressView",
            "bar_style": "success",
            "description": "",
            "description_tooltip": null,
            "layout": "IPY_MODEL_567b4962683e4061b91c7e0922d09f9b",
            "max": 1,
            "min": 0,
            "orientation": "horizontal",
            "style": "IPY_MODEL_8ec149b0b476403498826a2119f42fef",
            "value": 1
          }
        },
        "412214f49ca5415fa1ded77d22d423a8": {
          "model_module": "@jupyter-widgets/controls",
          "model_name": "HTMLModel",
          "model_module_version": "1.5.0",
          "state": {
            "_dom_classes": [],
            "_model_module": "@jupyter-widgets/controls",
            "_model_module_version": "1.5.0",
            "_model_name": "HTMLModel",
            "_view_count": null,
            "_view_module": "@jupyter-widgets/controls",
            "_view_module_version": "1.5.0",
            "_view_name": "HTMLView",
            "description": "",
            "description_tooltip": null,
            "layout": "IPY_MODEL_729d9e9acada4825adf8ddeadf9362c2",
            "placeholder": "​",
            "style": "IPY_MODEL_031a92eebd5548b7902d3ff7133378ca",
            "value": " 4/4 [00:13&lt;00:00,  3.80s/ url]"
          }
        },
        "80612e323f7c48bd980676e5d7d5cae2": {
          "model_module": "@jupyter-widgets/base",
          "model_name": "LayoutModel",
          "model_module_version": "1.2.0",
          "state": {
            "_model_module": "@jupyter-widgets/base",
            "_model_module_version": "1.2.0",
            "_model_name": "LayoutModel",
            "_view_count": null,
            "_view_module": "@jupyter-widgets/base",
            "_view_module_version": "1.2.0",
            "_view_name": "LayoutView",
            "align_content": null,
            "align_items": null,
            "align_self": null,
            "border": null,
            "bottom": null,
            "display": null,
            "flex": null,
            "flex_flow": null,
            "grid_area": null,
            "grid_auto_columns": null,
            "grid_auto_flow": null,
            "grid_auto_rows": null,
            "grid_column": null,
            "grid_gap": null,
            "grid_row": null,
            "grid_template_areas": null,
            "grid_template_columns": null,
            "grid_template_rows": null,
            "height": null,
            "justify_content": null,
            "justify_items": null,
            "left": null,
            "margin": null,
            "max_height": null,
            "max_width": null,
            "min_height": null,
            "min_width": null,
            "object_fit": null,
            "object_position": null,
            "order": null,
            "overflow": null,
            "overflow_x": null,
            "overflow_y": null,
            "padding": null,
            "right": null,
            "top": null,
            "visibility": null,
            "width": null
          }
        },
        "1b4b006550f44be5b7eb26678f0c2bf7": {
          "model_module": "@jupyter-widgets/base",
          "model_name": "LayoutModel",
          "model_module_version": "1.2.0",
          "state": {
            "_model_module": "@jupyter-widgets/base",
            "_model_module_version": "1.2.0",
            "_model_name": "LayoutModel",
            "_view_count": null,
            "_view_module": "@jupyter-widgets/base",
            "_view_module_version": "1.2.0",
            "_view_name": "LayoutView",
            "align_content": null,
            "align_items": null,
            "align_self": null,
            "border": null,
            "bottom": null,
            "display": null,
            "flex": null,
            "flex_flow": null,
            "grid_area": null,
            "grid_auto_columns": null,
            "grid_auto_flow": null,
            "grid_auto_rows": null,
            "grid_column": null,
            "grid_gap": null,
            "grid_row": null,
            "grid_template_areas": null,
            "grid_template_columns": null,
            "grid_template_rows": null,
            "height": null,
            "justify_content": null,
            "justify_items": null,
            "left": null,
            "margin": null,
            "max_height": null,
            "max_width": null,
            "min_height": null,
            "min_width": null,
            "object_fit": null,
            "object_position": null,
            "order": null,
            "overflow": null,
            "overflow_x": null,
            "overflow_y": null,
            "padding": null,
            "right": null,
            "top": null,
            "visibility": null,
            "width": null
          }
        },
        "af288696e56141dd8d7a0e9e363d8083": {
          "model_module": "@jupyter-widgets/controls",
          "model_name": "DescriptionStyleModel",
          "model_module_version": "1.5.0",
          "state": {
            "_model_module": "@jupyter-widgets/controls",
            "_model_module_version": "1.5.0",
            "_model_name": "DescriptionStyleModel",
            "_view_count": null,
            "_view_module": "@jupyter-widgets/base",
            "_view_module_version": "1.2.0",
            "_view_name": "StyleView",
            "description_width": ""
          }
        },
        "567b4962683e4061b91c7e0922d09f9b": {
          "model_module": "@jupyter-widgets/base",
          "model_name": "LayoutModel",
          "model_module_version": "1.2.0",
          "state": {
            "_model_module": "@jupyter-widgets/base",
            "_model_module_version": "1.2.0",
            "_model_name": "LayoutModel",
            "_view_count": null,
            "_view_module": "@jupyter-widgets/base",
            "_view_module_version": "1.2.0",
            "_view_name": "LayoutView",
            "align_content": null,
            "align_items": null,
            "align_self": null,
            "border": null,
            "bottom": null,
            "display": null,
            "flex": null,
            "flex_flow": null,
            "grid_area": null,
            "grid_auto_columns": null,
            "grid_auto_flow": null,
            "grid_auto_rows": null,
            "grid_column": null,
            "grid_gap": null,
            "grid_row": null,
            "grid_template_areas": null,
            "grid_template_columns": null,
            "grid_template_rows": null,
            "height": null,
            "justify_content": null,
            "justify_items": null,
            "left": null,
            "margin": null,
            "max_height": null,
            "max_width": null,
            "min_height": null,
            "min_width": null,
            "object_fit": null,
            "object_position": null,
            "order": null,
            "overflow": null,
            "overflow_x": null,
            "overflow_y": null,
            "padding": null,
            "right": null,
            "top": null,
            "visibility": null,
            "width": "20px"
          }
        },
        "8ec149b0b476403498826a2119f42fef": {
          "model_module": "@jupyter-widgets/controls",
          "model_name": "ProgressStyleModel",
          "model_module_version": "1.5.0",
          "state": {
            "_model_module": "@jupyter-widgets/controls",
            "_model_module_version": "1.5.0",
            "_model_name": "ProgressStyleModel",
            "_view_count": null,
            "_view_module": "@jupyter-widgets/base",
            "_view_module_version": "1.2.0",
            "_view_name": "StyleView",
            "bar_color": null,
            "description_width": ""
          }
        },
        "729d9e9acada4825adf8ddeadf9362c2": {
          "model_module": "@jupyter-widgets/base",
          "model_name": "LayoutModel",
          "model_module_version": "1.2.0",
          "state": {
            "_model_module": "@jupyter-widgets/base",
            "_model_module_version": "1.2.0",
            "_model_name": "LayoutModel",
            "_view_count": null,
            "_view_module": "@jupyter-widgets/base",
            "_view_module_version": "1.2.0",
            "_view_name": "LayoutView",
            "align_content": null,
            "align_items": null,
            "align_self": null,
            "border": null,
            "bottom": null,
            "display": null,
            "flex": null,
            "flex_flow": null,
            "grid_area": null,
            "grid_auto_columns": null,
            "grid_auto_flow": null,
            "grid_auto_rows": null,
            "grid_column": null,
            "grid_gap": null,
            "grid_row": null,
            "grid_template_areas": null,
            "grid_template_columns": null,
            "grid_template_rows": null,
            "height": null,
            "justify_content": null,
            "justify_items": null,
            "left": null,
            "margin": null,
            "max_height": null,
            "max_width": null,
            "min_height": null,
            "min_width": null,
            "object_fit": null,
            "object_position": null,
            "order": null,
            "overflow": null,
            "overflow_x": null,
            "overflow_y": null,
            "padding": null,
            "right": null,
            "top": null,
            "visibility": null,
            "width": null
          }
        },
        "031a92eebd5548b7902d3ff7133378ca": {
          "model_module": "@jupyter-widgets/controls",
          "model_name": "DescriptionStyleModel",
          "model_module_version": "1.5.0",
          "state": {
            "_model_module": "@jupyter-widgets/controls",
            "_model_module_version": "1.5.0",
            "_model_name": "DescriptionStyleModel",
            "_view_count": null,
            "_view_module": "@jupyter-widgets/base",
            "_view_module_version": "1.2.0",
            "_view_name": "StyleView",
            "description_width": ""
          }
        },
        "2617f71f6b254d348786f7370f538a0e": {
          "model_module": "@jupyter-widgets/controls",
          "model_name": "HBoxModel",
          "model_module_version": "1.5.0",
          "state": {
            "_dom_classes": [],
            "_model_module": "@jupyter-widgets/controls",
            "_model_module_version": "1.5.0",
            "_model_name": "HBoxModel",
            "_view_count": null,
            "_view_module": "@jupyter-widgets/controls",
            "_view_module_version": "1.5.0",
            "_view_name": "HBoxView",
            "box_style": "",
            "children": [
              "IPY_MODEL_dfb8d8f30fe040a3864c1d8935c33daa",
              "IPY_MODEL_152945c6fb054a6bae20d9271db43887",
              "IPY_MODEL_2c4ae39b69744c9687664b98f2c25367"
            ],
            "layout": "IPY_MODEL_5f591ab2946240e2b24a5d8ef67e3d13"
          }
        },
        "dfb8d8f30fe040a3864c1d8935c33daa": {
          "model_module": "@jupyter-widgets/controls",
          "model_name": "HTMLModel",
          "model_module_version": "1.5.0",
          "state": {
            "_dom_classes": [],
            "_model_module": "@jupyter-widgets/controls",
            "_model_module_version": "1.5.0",
            "_model_name": "HTMLModel",
            "_view_count": null,
            "_view_module": "@jupyter-widgets/controls",
            "_view_module_version": "1.5.0",
            "_view_name": "HTMLView",
            "description": "",
            "description_tooltip": null,
            "layout": "IPY_MODEL_6c2f44f084e84b529626f788406acceb",
            "placeholder": "​",
            "style": "IPY_MODEL_e982bc0d88bd4480af38e49e2c304d18",
            "value": "Dl Size...: 100%"
          }
        },
        "152945c6fb054a6bae20d9271db43887": {
          "model_module": "@jupyter-widgets/controls",
          "model_name": "FloatProgressModel",
          "model_module_version": "1.5.0",
          "state": {
            "_dom_classes": [],
            "_model_module": "@jupyter-widgets/controls",
            "_model_module_version": "1.5.0",
            "_model_name": "FloatProgressModel",
            "_view_count": null,
            "_view_module": "@jupyter-widgets/controls",
            "_view_module_version": "1.5.0",
            "_view_name": "ProgressView",
            "bar_style": "success",
            "description": "",
            "description_tooltip": null,
            "layout": "IPY_MODEL_3dd23fa4e98c4c4ca9c13508f9738ea4",
            "max": 1,
            "min": 0,
            "orientation": "horizontal",
            "style": "IPY_MODEL_2c8092ad42d4420bb9fc5d4bfab0a00d",
            "value": 1
          }
        },
        "2c4ae39b69744c9687664b98f2c25367": {
          "model_module": "@jupyter-widgets/controls",
          "model_name": "HTMLModel",
          "model_module_version": "1.5.0",
          "state": {
            "_dom_classes": [],
            "_model_module": "@jupyter-widgets/controls",
            "_model_module_version": "1.5.0",
            "_model_name": "HTMLModel",
            "_view_count": null,
            "_view_module": "@jupyter-widgets/controls",
            "_view_module_version": "1.5.0",
            "_view_name": "HTMLView",
            "description": "",
            "description_tooltip": null,
            "layout": "IPY_MODEL_842815cd4d0b4587aee4555c83f3d1ec",
            "placeholder": "​",
            "style": "IPY_MODEL_ae07d913fd644cfbba975551faa005f4",
            "value": " 19/19 [00:13&lt;00:00,  1.70 MiB/s]"
          }
        },
        "5f591ab2946240e2b24a5d8ef67e3d13": {
          "model_module": "@jupyter-widgets/base",
          "model_name": "LayoutModel",
          "model_module_version": "1.2.0",
          "state": {
            "_model_module": "@jupyter-widgets/base",
            "_model_module_version": "1.2.0",
            "_model_name": "LayoutModel",
            "_view_count": null,
            "_view_module": "@jupyter-widgets/base",
            "_view_module_version": "1.2.0",
            "_view_name": "LayoutView",
            "align_content": null,
            "align_items": null,
            "align_self": null,
            "border": null,
            "bottom": null,
            "display": null,
            "flex": null,
            "flex_flow": null,
            "grid_area": null,
            "grid_auto_columns": null,
            "grid_auto_flow": null,
            "grid_auto_rows": null,
            "grid_column": null,
            "grid_gap": null,
            "grid_row": null,
            "grid_template_areas": null,
            "grid_template_columns": null,
            "grid_template_rows": null,
            "height": null,
            "justify_content": null,
            "justify_items": null,
            "left": null,
            "margin": null,
            "max_height": null,
            "max_width": null,
            "min_height": null,
            "min_width": null,
            "object_fit": null,
            "object_position": null,
            "order": null,
            "overflow": null,
            "overflow_x": null,
            "overflow_y": null,
            "padding": null,
            "right": null,
            "top": null,
            "visibility": null,
            "width": null
          }
        },
        "6c2f44f084e84b529626f788406acceb": {
          "model_module": "@jupyter-widgets/base",
          "model_name": "LayoutModel",
          "model_module_version": "1.2.0",
          "state": {
            "_model_module": "@jupyter-widgets/base",
            "_model_module_version": "1.2.0",
            "_model_name": "LayoutModel",
            "_view_count": null,
            "_view_module": "@jupyter-widgets/base",
            "_view_module_version": "1.2.0",
            "_view_name": "LayoutView",
            "align_content": null,
            "align_items": null,
            "align_self": null,
            "border": null,
            "bottom": null,
            "display": null,
            "flex": null,
            "flex_flow": null,
            "grid_area": null,
            "grid_auto_columns": null,
            "grid_auto_flow": null,
            "grid_auto_rows": null,
            "grid_column": null,
            "grid_gap": null,
            "grid_row": null,
            "grid_template_areas": null,
            "grid_template_columns": null,
            "grid_template_rows": null,
            "height": null,
            "justify_content": null,
            "justify_items": null,
            "left": null,
            "margin": null,
            "max_height": null,
            "max_width": null,
            "min_height": null,
            "min_width": null,
            "object_fit": null,
            "object_position": null,
            "order": null,
            "overflow": null,
            "overflow_x": null,
            "overflow_y": null,
            "padding": null,
            "right": null,
            "top": null,
            "visibility": null,
            "width": null
          }
        },
        "e982bc0d88bd4480af38e49e2c304d18": {
          "model_module": "@jupyter-widgets/controls",
          "model_name": "DescriptionStyleModel",
          "model_module_version": "1.5.0",
          "state": {
            "_model_module": "@jupyter-widgets/controls",
            "_model_module_version": "1.5.0",
            "_model_name": "DescriptionStyleModel",
            "_view_count": null,
            "_view_module": "@jupyter-widgets/base",
            "_view_module_version": "1.2.0",
            "_view_name": "StyleView",
            "description_width": ""
          }
        },
        "3dd23fa4e98c4c4ca9c13508f9738ea4": {
          "model_module": "@jupyter-widgets/base",
          "model_name": "LayoutModel",
          "model_module_version": "1.2.0",
          "state": {
            "_model_module": "@jupyter-widgets/base",
            "_model_module_version": "1.2.0",
            "_model_name": "LayoutModel",
            "_view_count": null,
            "_view_module": "@jupyter-widgets/base",
            "_view_module_version": "1.2.0",
            "_view_name": "LayoutView",
            "align_content": null,
            "align_items": null,
            "align_self": null,
            "border": null,
            "bottom": null,
            "display": null,
            "flex": null,
            "flex_flow": null,
            "grid_area": null,
            "grid_auto_columns": null,
            "grid_auto_flow": null,
            "grid_auto_rows": null,
            "grid_column": null,
            "grid_gap": null,
            "grid_row": null,
            "grid_template_areas": null,
            "grid_template_columns": null,
            "grid_template_rows": null,
            "height": null,
            "justify_content": null,
            "justify_items": null,
            "left": null,
            "margin": null,
            "max_height": null,
            "max_width": null,
            "min_height": null,
            "min_width": null,
            "object_fit": null,
            "object_position": null,
            "order": null,
            "overflow": null,
            "overflow_x": null,
            "overflow_y": null,
            "padding": null,
            "right": null,
            "top": null,
            "visibility": null,
            "width": "20px"
          }
        },
        "2c8092ad42d4420bb9fc5d4bfab0a00d": {
          "model_module": "@jupyter-widgets/controls",
          "model_name": "ProgressStyleModel",
          "model_module_version": "1.5.0",
          "state": {
            "_model_module": "@jupyter-widgets/controls",
            "_model_module_version": "1.5.0",
            "_model_name": "ProgressStyleModel",
            "_view_count": null,
            "_view_module": "@jupyter-widgets/base",
            "_view_module_version": "1.2.0",
            "_view_name": "StyleView",
            "bar_color": null,
            "description_width": ""
          }
        },
        "842815cd4d0b4587aee4555c83f3d1ec": {
          "model_module": "@jupyter-widgets/base",
          "model_name": "LayoutModel",
          "model_module_version": "1.2.0",
          "state": {
            "_model_module": "@jupyter-widgets/base",
            "_model_module_version": "1.2.0",
            "_model_name": "LayoutModel",
            "_view_count": null,
            "_view_module": "@jupyter-widgets/base",
            "_view_module_version": "1.2.0",
            "_view_name": "LayoutView",
            "align_content": null,
            "align_items": null,
            "align_self": null,
            "border": null,
            "bottom": null,
            "display": null,
            "flex": null,
            "flex_flow": null,
            "grid_area": null,
            "grid_auto_columns": null,
            "grid_auto_flow": null,
            "grid_auto_rows": null,
            "grid_column": null,
            "grid_gap": null,
            "grid_row": null,
            "grid_template_areas": null,
            "grid_template_columns": null,
            "grid_template_rows": null,
            "height": null,
            "justify_content": null,
            "justify_items": null,
            "left": null,
            "margin": null,
            "max_height": null,
            "max_width": null,
            "min_height": null,
            "min_width": null,
            "object_fit": null,
            "object_position": null,
            "order": null,
            "overflow": null,
            "overflow_x": null,
            "overflow_y": null,
            "padding": null,
            "right": null,
            "top": null,
            "visibility": null,
            "width": null
          }
        },
        "ae07d913fd644cfbba975551faa005f4": {
          "model_module": "@jupyter-widgets/controls",
          "model_name": "DescriptionStyleModel",
          "model_module_version": "1.5.0",
          "state": {
            "_model_module": "@jupyter-widgets/controls",
            "_model_module_version": "1.5.0",
            "_model_name": "DescriptionStyleModel",
            "_view_count": null,
            "_view_module": "@jupyter-widgets/base",
            "_view_module_version": "1.2.0",
            "_view_name": "StyleView",
            "description_width": ""
          }
        },
        "57606a0c60ea4cca84b901dc9d72cb87": {
          "model_module": "@jupyter-widgets/controls",
          "model_name": "HBoxModel",
          "model_module_version": "1.5.0",
          "state": {
            "_dom_classes": [],
            "_model_module": "@jupyter-widgets/controls",
            "_model_module_version": "1.5.0",
            "_model_name": "HBoxModel",
            "_view_count": null,
            "_view_module": "@jupyter-widgets/controls",
            "_view_module_version": "1.5.0",
            "_view_name": "HBoxView",
            "box_style": "",
            "children": [
              "IPY_MODEL_7a3f788a28e74561a62eb3d97226b561",
              "IPY_MODEL_4a6bf9acd4e14bc3a4611d4cd21e640d",
              "IPY_MODEL_a7d5e658f7d447c5869f7afd98fb09e1"
            ],
            "layout": "IPY_MODEL_005ea071be6443b795f79c3b21d73a79"
          }
        },
        "7a3f788a28e74561a62eb3d97226b561": {
          "model_module": "@jupyter-widgets/controls",
          "model_name": "HTMLModel",
          "model_module_version": "1.5.0",
          "state": {
            "_dom_classes": [],
            "_model_module": "@jupyter-widgets/controls",
            "_model_module_version": "1.5.0",
            "_model_name": "HTMLModel",
            "_view_count": null,
            "_view_module": "@jupyter-widgets/controls",
            "_view_module_version": "1.5.0",
            "_view_name": "HTMLView",
            "description": "",
            "description_tooltip": null,
            "layout": "IPY_MODEL_b43852d49499445eaa9ca27a679695f3",
            "placeholder": "​",
            "style": "IPY_MODEL_219723cc69114f3790a4523a2ec5902e",
            "value": "Extraction completed...: 100%"
          }
        },
        "4a6bf9acd4e14bc3a4611d4cd21e640d": {
          "model_module": "@jupyter-widgets/controls",
          "model_name": "FloatProgressModel",
          "model_module_version": "1.5.0",
          "state": {
            "_dom_classes": [],
            "_model_module": "@jupyter-widgets/controls",
            "_model_module_version": "1.5.0",
            "_model_name": "FloatProgressModel",
            "_view_count": null,
            "_view_module": "@jupyter-widgets/controls",
            "_view_module_version": "1.5.0",
            "_view_name": "ProgressView",
            "bar_style": "success",
            "description": "",
            "description_tooltip": null,
            "layout": "IPY_MODEL_c0fbf6c4ea0d403c9a2096602285e8a8",
            "max": 1,
            "min": 0,
            "orientation": "horizontal",
            "style": "IPY_MODEL_966d9b1fa90744438939b9a060f6369a",
            "value": 1
          }
        },
        "a7d5e658f7d447c5869f7afd98fb09e1": {
          "model_module": "@jupyter-widgets/controls",
          "model_name": "HTMLModel",
          "model_module_version": "1.5.0",
          "state": {
            "_dom_classes": [],
            "_model_module": "@jupyter-widgets/controls",
            "_model_module_version": "1.5.0",
            "_model_name": "HTMLModel",
            "_view_count": null,
            "_view_module": "@jupyter-widgets/controls",
            "_view_module_version": "1.5.0",
            "_view_name": "HTMLView",
            "description": "",
            "description_tooltip": null,
            "layout": "IPY_MODEL_92e0103a8eb6418c90a08852ce402c01",
            "placeholder": "​",
            "style": "IPY_MODEL_8e2d3420ffbd442bb53cc5fc4e7f41f4",
            "value": " 4/4 [00:13&lt;00:00,  3.89s/ file]"
          }
        },
        "005ea071be6443b795f79c3b21d73a79": {
          "model_module": "@jupyter-widgets/base",
          "model_name": "LayoutModel",
          "model_module_version": "1.2.0",
          "state": {
            "_model_module": "@jupyter-widgets/base",
            "_model_module_version": "1.2.0",
            "_model_name": "LayoutModel",
            "_view_count": null,
            "_view_module": "@jupyter-widgets/base",
            "_view_module_version": "1.2.0",
            "_view_name": "LayoutView",
            "align_content": null,
            "align_items": null,
            "align_self": null,
            "border": null,
            "bottom": null,
            "display": null,
            "flex": null,
            "flex_flow": null,
            "grid_area": null,
            "grid_auto_columns": null,
            "grid_auto_flow": null,
            "grid_auto_rows": null,
            "grid_column": null,
            "grid_gap": null,
            "grid_row": null,
            "grid_template_areas": null,
            "grid_template_columns": null,
            "grid_template_rows": null,
            "height": null,
            "justify_content": null,
            "justify_items": null,
            "left": null,
            "margin": null,
            "max_height": null,
            "max_width": null,
            "min_height": null,
            "min_width": null,
            "object_fit": null,
            "object_position": null,
            "order": null,
            "overflow": null,
            "overflow_x": null,
            "overflow_y": null,
            "padding": null,
            "right": null,
            "top": null,
            "visibility": null,
            "width": null
          }
        },
        "b43852d49499445eaa9ca27a679695f3": {
          "model_module": "@jupyter-widgets/base",
          "model_name": "LayoutModel",
          "model_module_version": "1.2.0",
          "state": {
            "_model_module": "@jupyter-widgets/base",
            "_model_module_version": "1.2.0",
            "_model_name": "LayoutModel",
            "_view_count": null,
            "_view_module": "@jupyter-widgets/base",
            "_view_module_version": "1.2.0",
            "_view_name": "LayoutView",
            "align_content": null,
            "align_items": null,
            "align_self": null,
            "border": null,
            "bottom": null,
            "display": null,
            "flex": null,
            "flex_flow": null,
            "grid_area": null,
            "grid_auto_columns": null,
            "grid_auto_flow": null,
            "grid_auto_rows": null,
            "grid_column": null,
            "grid_gap": null,
            "grid_row": null,
            "grid_template_areas": null,
            "grid_template_columns": null,
            "grid_template_rows": null,
            "height": null,
            "justify_content": null,
            "justify_items": null,
            "left": null,
            "margin": null,
            "max_height": null,
            "max_width": null,
            "min_height": null,
            "min_width": null,
            "object_fit": null,
            "object_position": null,
            "order": null,
            "overflow": null,
            "overflow_x": null,
            "overflow_y": null,
            "padding": null,
            "right": null,
            "top": null,
            "visibility": null,
            "width": null
          }
        },
        "219723cc69114f3790a4523a2ec5902e": {
          "model_module": "@jupyter-widgets/controls",
          "model_name": "DescriptionStyleModel",
          "model_module_version": "1.5.0",
          "state": {
            "_model_module": "@jupyter-widgets/controls",
            "_model_module_version": "1.5.0",
            "_model_name": "DescriptionStyleModel",
            "_view_count": null,
            "_view_module": "@jupyter-widgets/base",
            "_view_module_version": "1.2.0",
            "_view_name": "StyleView",
            "description_width": ""
          }
        },
        "c0fbf6c4ea0d403c9a2096602285e8a8": {
          "model_module": "@jupyter-widgets/base",
          "model_name": "LayoutModel",
          "model_module_version": "1.2.0",
          "state": {
            "_model_module": "@jupyter-widgets/base",
            "_model_module_version": "1.2.0",
            "_model_name": "LayoutModel",
            "_view_count": null,
            "_view_module": "@jupyter-widgets/base",
            "_view_module_version": "1.2.0",
            "_view_name": "LayoutView",
            "align_content": null,
            "align_items": null,
            "align_self": null,
            "border": null,
            "bottom": null,
            "display": null,
            "flex": null,
            "flex_flow": null,
            "grid_area": null,
            "grid_auto_columns": null,
            "grid_auto_flow": null,
            "grid_auto_rows": null,
            "grid_column": null,
            "grid_gap": null,
            "grid_row": null,
            "grid_template_areas": null,
            "grid_template_columns": null,
            "grid_template_rows": null,
            "height": null,
            "justify_content": null,
            "justify_items": null,
            "left": null,
            "margin": null,
            "max_height": null,
            "max_width": null,
            "min_height": null,
            "min_width": null,
            "object_fit": null,
            "object_position": null,
            "order": null,
            "overflow": null,
            "overflow_x": null,
            "overflow_y": null,
            "padding": null,
            "right": null,
            "top": null,
            "visibility": null,
            "width": "20px"
          }
        },
        "966d9b1fa90744438939b9a060f6369a": {
          "model_module": "@jupyter-widgets/controls",
          "model_name": "ProgressStyleModel",
          "model_module_version": "1.5.0",
          "state": {
            "_model_module": "@jupyter-widgets/controls",
            "_model_module_version": "1.5.0",
            "_model_name": "ProgressStyleModel",
            "_view_count": null,
            "_view_module": "@jupyter-widgets/base",
            "_view_module_version": "1.2.0",
            "_view_name": "StyleView",
            "bar_color": null,
            "description_width": ""
          }
        },
        "92e0103a8eb6418c90a08852ce402c01": {
          "model_module": "@jupyter-widgets/base",
          "model_name": "LayoutModel",
          "model_module_version": "1.2.0",
          "state": {
            "_model_module": "@jupyter-widgets/base",
            "_model_module_version": "1.2.0",
            "_model_name": "LayoutModel",
            "_view_count": null,
            "_view_module": "@jupyter-widgets/base",
            "_view_module_version": "1.2.0",
            "_view_name": "LayoutView",
            "align_content": null,
            "align_items": null,
            "align_self": null,
            "border": null,
            "bottom": null,
            "display": null,
            "flex": null,
            "flex_flow": null,
            "grid_area": null,
            "grid_auto_columns": null,
            "grid_auto_flow": null,
            "grid_auto_rows": null,
            "grid_column": null,
            "grid_gap": null,
            "grid_row": null,
            "grid_template_areas": null,
            "grid_template_columns": null,
            "grid_template_rows": null,
            "height": null,
            "justify_content": null,
            "justify_items": null,
            "left": null,
            "margin": null,
            "max_height": null,
            "max_width": null,
            "min_height": null,
            "min_width": null,
            "object_fit": null,
            "object_position": null,
            "order": null,
            "overflow": null,
            "overflow_x": null,
            "overflow_y": null,
            "padding": null,
            "right": null,
            "top": null,
            "visibility": null,
            "width": null
          }
        },
        "8e2d3420ffbd442bb53cc5fc4e7f41f4": {
          "model_module": "@jupyter-widgets/controls",
          "model_name": "DescriptionStyleModel",
          "model_module_version": "1.5.0",
          "state": {
            "_model_module": "@jupyter-widgets/controls",
            "_model_module_version": "1.5.0",
            "_model_name": "DescriptionStyleModel",
            "_view_count": null,
            "_view_module": "@jupyter-widgets/base",
            "_view_module_version": "1.2.0",
            "_view_name": "StyleView",
            "description_width": ""
          }
        },
        "4707e8ea02de430cb63c35baaeb80b4c": {
          "model_module": "@jupyter-widgets/controls",
          "model_name": "HBoxModel",
          "model_module_version": "1.5.0",
          "state": {
            "_dom_classes": [],
            "_model_module": "@jupyter-widgets/controls",
            "_model_module_version": "1.5.0",
            "_model_name": "HBoxModel",
            "_view_count": null,
            "_view_module": "@jupyter-widgets/controls",
            "_view_module_version": "1.5.0",
            "_view_name": "HBoxView",
            "box_style": "",
            "children": [
              "IPY_MODEL_df94e83dbade49718a2795d609b6f2ff",
              "IPY_MODEL_173ca2b1074c45b9a073c6389fdc735b",
              "IPY_MODEL_a8e29251ecaf4a998d83d02e5a243529"
            ],
            "layout": "IPY_MODEL_0afe4fd3bad14b8f8c8e4602cd2884b2"
          }
        },
        "df94e83dbade49718a2795d609b6f2ff": {
          "model_module": "@jupyter-widgets/controls",
          "model_name": "HTMLModel",
          "model_module_version": "1.5.0",
          "state": {
            "_dom_classes": [],
            "_model_module": "@jupyter-widgets/controls",
            "_model_module_version": "1.5.0",
            "_model_name": "HTMLModel",
            "_view_count": null,
            "_view_module": "@jupyter-widgets/controls",
            "_view_module_version": "1.5.0",
            "_view_name": "HTMLView",
            "description": "",
            "description_tooltip": null,
            "layout": "IPY_MODEL_ba47eda363884da89a90829acf795fb9",
            "placeholder": "​",
            "style": "IPY_MODEL_200b83e35bef49118084573bc82d61a0",
            "value": "Generating splits...: 100%"
          }
        },
        "173ca2b1074c45b9a073c6389fdc735b": {
          "model_module": "@jupyter-widgets/controls",
          "model_name": "FloatProgressModel",
          "model_module_version": "1.5.0",
          "state": {
            "_dom_classes": [],
            "_model_module": "@jupyter-widgets/controls",
            "_model_module_version": "1.5.0",
            "_model_name": "FloatProgressModel",
            "_view_count": null,
            "_view_module": "@jupyter-widgets/controls",
            "_view_module_version": "1.5.0",
            "_view_name": "ProgressView",
            "bar_style": "",
            "description": "",
            "description_tooltip": null,
            "layout": "IPY_MODEL_43a000bd2a61484c8e6d5f76babd88fb",
            "max": 2,
            "min": 0,
            "orientation": "horizontal",
            "style": "IPY_MODEL_e68d2c3df482434eb48228a5b6e4d642",
            "value": 2
          }
        },
        "a8e29251ecaf4a998d83d02e5a243529": {
          "model_module": "@jupyter-widgets/controls",
          "model_name": "HTMLModel",
          "model_module_version": "1.5.0",
          "state": {
            "_dom_classes": [],
            "_model_module": "@jupyter-widgets/controls",
            "_model_module_version": "1.5.0",
            "_model_name": "HTMLModel",
            "_view_count": null,
            "_view_module": "@jupyter-widgets/controls",
            "_view_module_version": "1.5.0",
            "_view_name": "HTMLView",
            "description": "",
            "description_tooltip": null,
            "layout": "IPY_MODEL_c7c79666c80b4d6d8f003d8c3ed4c08f",
            "placeholder": "​",
            "style": "IPY_MODEL_1717a1a0d9424f278307f77bee3fc259",
            "value": " 2/2 [00:44&lt;00:00, 19.61s/ splits]"
          }
        },
        "0afe4fd3bad14b8f8c8e4602cd2884b2": {
          "model_module": "@jupyter-widgets/base",
          "model_name": "LayoutModel",
          "model_module_version": "1.2.0",
          "state": {
            "_model_module": "@jupyter-widgets/base",
            "_model_module_version": "1.2.0",
            "_model_name": "LayoutModel",
            "_view_count": null,
            "_view_module": "@jupyter-widgets/base",
            "_view_module_version": "1.2.0",
            "_view_name": "LayoutView",
            "align_content": null,
            "align_items": null,
            "align_self": null,
            "border": null,
            "bottom": null,
            "display": null,
            "flex": null,
            "flex_flow": null,
            "grid_area": null,
            "grid_auto_columns": null,
            "grid_auto_flow": null,
            "grid_auto_rows": null,
            "grid_column": null,
            "grid_gap": null,
            "grid_row": null,
            "grid_template_areas": null,
            "grid_template_columns": null,
            "grid_template_rows": null,
            "height": null,
            "justify_content": null,
            "justify_items": null,
            "left": null,
            "margin": null,
            "max_height": null,
            "max_width": null,
            "min_height": null,
            "min_width": null,
            "object_fit": null,
            "object_position": null,
            "order": null,
            "overflow": null,
            "overflow_x": null,
            "overflow_y": null,
            "padding": null,
            "right": null,
            "top": null,
            "visibility": "hidden",
            "width": null
          }
        },
        "ba47eda363884da89a90829acf795fb9": {
          "model_module": "@jupyter-widgets/base",
          "model_name": "LayoutModel",
          "model_module_version": "1.2.0",
          "state": {
            "_model_module": "@jupyter-widgets/base",
            "_model_module_version": "1.2.0",
            "_model_name": "LayoutModel",
            "_view_count": null,
            "_view_module": "@jupyter-widgets/base",
            "_view_module_version": "1.2.0",
            "_view_name": "LayoutView",
            "align_content": null,
            "align_items": null,
            "align_self": null,
            "border": null,
            "bottom": null,
            "display": null,
            "flex": null,
            "flex_flow": null,
            "grid_area": null,
            "grid_auto_columns": null,
            "grid_auto_flow": null,
            "grid_auto_rows": null,
            "grid_column": null,
            "grid_gap": null,
            "grid_row": null,
            "grid_template_areas": null,
            "grid_template_columns": null,
            "grid_template_rows": null,
            "height": null,
            "justify_content": null,
            "justify_items": null,
            "left": null,
            "margin": null,
            "max_height": null,
            "max_width": null,
            "min_height": null,
            "min_width": null,
            "object_fit": null,
            "object_position": null,
            "order": null,
            "overflow": null,
            "overflow_x": null,
            "overflow_y": null,
            "padding": null,
            "right": null,
            "top": null,
            "visibility": null,
            "width": null
          }
        },
        "200b83e35bef49118084573bc82d61a0": {
          "model_module": "@jupyter-widgets/controls",
          "model_name": "DescriptionStyleModel",
          "model_module_version": "1.5.0",
          "state": {
            "_model_module": "@jupyter-widgets/controls",
            "_model_module_version": "1.5.0",
            "_model_name": "DescriptionStyleModel",
            "_view_count": null,
            "_view_module": "@jupyter-widgets/base",
            "_view_module_version": "1.2.0",
            "_view_name": "StyleView",
            "description_width": ""
          }
        },
        "43a000bd2a61484c8e6d5f76babd88fb": {
          "model_module": "@jupyter-widgets/base",
          "model_name": "LayoutModel",
          "model_module_version": "1.2.0",
          "state": {
            "_model_module": "@jupyter-widgets/base",
            "_model_module_version": "1.2.0",
            "_model_name": "LayoutModel",
            "_view_count": null,
            "_view_module": "@jupyter-widgets/base",
            "_view_module_version": "1.2.0",
            "_view_name": "LayoutView",
            "align_content": null,
            "align_items": null,
            "align_self": null,
            "border": null,
            "bottom": null,
            "display": null,
            "flex": null,
            "flex_flow": null,
            "grid_area": null,
            "grid_auto_columns": null,
            "grid_auto_flow": null,
            "grid_auto_rows": null,
            "grid_column": null,
            "grid_gap": null,
            "grid_row": null,
            "grid_template_areas": null,
            "grid_template_columns": null,
            "grid_template_rows": null,
            "height": null,
            "justify_content": null,
            "justify_items": null,
            "left": null,
            "margin": null,
            "max_height": null,
            "max_width": null,
            "min_height": null,
            "min_width": null,
            "object_fit": null,
            "object_position": null,
            "order": null,
            "overflow": null,
            "overflow_x": null,
            "overflow_y": null,
            "padding": null,
            "right": null,
            "top": null,
            "visibility": null,
            "width": null
          }
        },
        "e68d2c3df482434eb48228a5b6e4d642": {
          "model_module": "@jupyter-widgets/controls",
          "model_name": "ProgressStyleModel",
          "model_module_version": "1.5.0",
          "state": {
            "_model_module": "@jupyter-widgets/controls",
            "_model_module_version": "1.5.0",
            "_model_name": "ProgressStyleModel",
            "_view_count": null,
            "_view_module": "@jupyter-widgets/base",
            "_view_module_version": "1.2.0",
            "_view_name": "StyleView",
            "bar_color": null,
            "description_width": ""
          }
        },
        "c7c79666c80b4d6d8f003d8c3ed4c08f": {
          "model_module": "@jupyter-widgets/base",
          "model_name": "LayoutModel",
          "model_module_version": "1.2.0",
          "state": {
            "_model_module": "@jupyter-widgets/base",
            "_model_module_version": "1.2.0",
            "_model_name": "LayoutModel",
            "_view_count": null,
            "_view_module": "@jupyter-widgets/base",
            "_view_module_version": "1.2.0",
            "_view_name": "LayoutView",
            "align_content": null,
            "align_items": null,
            "align_self": null,
            "border": null,
            "bottom": null,
            "display": null,
            "flex": null,
            "flex_flow": null,
            "grid_area": null,
            "grid_auto_columns": null,
            "grid_auto_flow": null,
            "grid_auto_rows": null,
            "grid_column": null,
            "grid_gap": null,
            "grid_row": null,
            "grid_template_areas": null,
            "grid_template_columns": null,
            "grid_template_rows": null,
            "height": null,
            "justify_content": null,
            "justify_items": null,
            "left": null,
            "margin": null,
            "max_height": null,
            "max_width": null,
            "min_height": null,
            "min_width": null,
            "object_fit": null,
            "object_position": null,
            "order": null,
            "overflow": null,
            "overflow_x": null,
            "overflow_y": null,
            "padding": null,
            "right": null,
            "top": null,
            "visibility": null,
            "width": null
          }
        },
        "1717a1a0d9424f278307f77bee3fc259": {
          "model_module": "@jupyter-widgets/controls",
          "model_name": "DescriptionStyleModel",
          "model_module_version": "1.5.0",
          "state": {
            "_model_module": "@jupyter-widgets/controls",
            "_model_module_version": "1.5.0",
            "_model_name": "DescriptionStyleModel",
            "_view_count": null,
            "_view_module": "@jupyter-widgets/base",
            "_view_module_version": "1.2.0",
            "_view_name": "StyleView",
            "description_width": ""
          }
        },
        "0b6a61add4334fda8af1a76c0f229d25": {
          "model_module": "@jupyter-widgets/controls",
          "model_name": "HBoxModel",
          "model_module_version": "1.5.0",
          "state": {
            "_dom_classes": [],
            "_model_module": "@jupyter-widgets/controls",
            "_model_module_version": "1.5.0",
            "_model_name": "HBoxModel",
            "_view_count": null,
            "_view_module": "@jupyter-widgets/controls",
            "_view_module_version": "1.5.0",
            "_view_name": "HBoxView",
            "box_style": "",
            "children": [
              "IPY_MODEL_fa1eeeb72e0944bb88420296f63f1e2b",
              "IPY_MODEL_baba4082507644acaafc1aea18b3faa7",
              "IPY_MODEL_2a6d845466884642b8fcc03455087720"
            ],
            "layout": "IPY_MODEL_eb1e6f3208fe4214a8e9267650acf5cd"
          }
        },
        "fa1eeeb72e0944bb88420296f63f1e2b": {
          "model_module": "@jupyter-widgets/controls",
          "model_name": "HTMLModel",
          "model_module_version": "1.5.0",
          "state": {
            "_dom_classes": [],
            "_model_module": "@jupyter-widgets/controls",
            "_model_module_version": "1.5.0",
            "_model_name": "HTMLModel",
            "_view_count": null,
            "_view_module": "@jupyter-widgets/controls",
            "_view_module_version": "1.5.0",
            "_view_name": "HTMLView",
            "description": "",
            "description_tooltip": null,
            "layout": "IPY_MODEL_e0baad57ff9448bb94f1c7188237379b",
            "placeholder": "​",
            "style": "IPY_MODEL_6aa2b955268940d7bb99dfb70f523632",
            "value": "Generating train examples...: "
          }
        },
        "baba4082507644acaafc1aea18b3faa7": {
          "model_module": "@jupyter-widgets/controls",
          "model_name": "FloatProgressModel",
          "model_module_version": "1.5.0",
          "state": {
            "_dom_classes": [],
            "_model_module": "@jupyter-widgets/controls",
            "_model_module_version": "1.5.0",
            "_model_name": "FloatProgressModel",
            "_view_count": null,
            "_view_module": "@jupyter-widgets/controls",
            "_view_module_version": "1.5.0",
            "_view_name": "ProgressView",
            "bar_style": "info",
            "description": "",
            "description_tooltip": null,
            "layout": "IPY_MODEL_1631cc2470b04ade8b100ebc00c1cbc8",
            "max": 1,
            "min": 0,
            "orientation": "horizontal",
            "style": "IPY_MODEL_84b6be9ab9c1440fbbff925da33de059",
            "value": 1
          }
        },
        "2a6d845466884642b8fcc03455087720": {
          "model_module": "@jupyter-widgets/controls",
          "model_name": "HTMLModel",
          "model_module_version": "1.5.0",
          "state": {
            "_dom_classes": [],
            "_model_module": "@jupyter-widgets/controls",
            "_model_module_version": "1.5.0",
            "_model_name": "HTMLModel",
            "_view_count": null,
            "_view_module": "@jupyter-widgets/controls",
            "_view_module_version": "1.5.0",
            "_view_name": "HTMLView",
            "description": "",
            "description_tooltip": null,
            "layout": "IPY_MODEL_1208d9389b704f04b1ad1e0a6f377909",
            "placeholder": "​",
            "style": "IPY_MODEL_5235dfae7490485da12ccc9b30f5adb2",
            "value": " 59217/? [00:37&lt;00:00, 1651.34 examples/s]"
          }
        },
        "eb1e6f3208fe4214a8e9267650acf5cd": {
          "model_module": "@jupyter-widgets/base",
          "model_name": "LayoutModel",
          "model_module_version": "1.2.0",
          "state": {
            "_model_module": "@jupyter-widgets/base",
            "_model_module_version": "1.2.0",
            "_model_name": "LayoutModel",
            "_view_count": null,
            "_view_module": "@jupyter-widgets/base",
            "_view_module_version": "1.2.0",
            "_view_name": "LayoutView",
            "align_content": null,
            "align_items": null,
            "align_self": null,
            "border": null,
            "bottom": null,
            "display": null,
            "flex": null,
            "flex_flow": null,
            "grid_area": null,
            "grid_auto_columns": null,
            "grid_auto_flow": null,
            "grid_auto_rows": null,
            "grid_column": null,
            "grid_gap": null,
            "grid_row": null,
            "grid_template_areas": null,
            "grid_template_columns": null,
            "grid_template_rows": null,
            "height": null,
            "justify_content": null,
            "justify_items": null,
            "left": null,
            "margin": null,
            "max_height": null,
            "max_width": null,
            "min_height": null,
            "min_width": null,
            "object_fit": null,
            "object_position": null,
            "order": null,
            "overflow": null,
            "overflow_x": null,
            "overflow_y": null,
            "padding": null,
            "right": null,
            "top": null,
            "visibility": "hidden",
            "width": null
          }
        },
        "e0baad57ff9448bb94f1c7188237379b": {
          "model_module": "@jupyter-widgets/base",
          "model_name": "LayoutModel",
          "model_module_version": "1.2.0",
          "state": {
            "_model_module": "@jupyter-widgets/base",
            "_model_module_version": "1.2.0",
            "_model_name": "LayoutModel",
            "_view_count": null,
            "_view_module": "@jupyter-widgets/base",
            "_view_module_version": "1.2.0",
            "_view_name": "LayoutView",
            "align_content": null,
            "align_items": null,
            "align_self": null,
            "border": null,
            "bottom": null,
            "display": null,
            "flex": null,
            "flex_flow": null,
            "grid_area": null,
            "grid_auto_columns": null,
            "grid_auto_flow": null,
            "grid_auto_rows": null,
            "grid_column": null,
            "grid_gap": null,
            "grid_row": null,
            "grid_template_areas": null,
            "grid_template_columns": null,
            "grid_template_rows": null,
            "height": null,
            "justify_content": null,
            "justify_items": null,
            "left": null,
            "margin": null,
            "max_height": null,
            "max_width": null,
            "min_height": null,
            "min_width": null,
            "object_fit": null,
            "object_position": null,
            "order": null,
            "overflow": null,
            "overflow_x": null,
            "overflow_y": null,
            "padding": null,
            "right": null,
            "top": null,
            "visibility": null,
            "width": null
          }
        },
        "6aa2b955268940d7bb99dfb70f523632": {
          "model_module": "@jupyter-widgets/controls",
          "model_name": "DescriptionStyleModel",
          "model_module_version": "1.5.0",
          "state": {
            "_model_module": "@jupyter-widgets/controls",
            "_model_module_version": "1.5.0",
            "_model_name": "DescriptionStyleModel",
            "_view_count": null,
            "_view_module": "@jupyter-widgets/base",
            "_view_module_version": "1.2.0",
            "_view_name": "StyleView",
            "description_width": ""
          }
        },
        "1631cc2470b04ade8b100ebc00c1cbc8": {
          "model_module": "@jupyter-widgets/base",
          "model_name": "LayoutModel",
          "model_module_version": "1.2.0",
          "state": {
            "_model_module": "@jupyter-widgets/base",
            "_model_module_version": "1.2.0",
            "_model_name": "LayoutModel",
            "_view_count": null,
            "_view_module": "@jupyter-widgets/base",
            "_view_module_version": "1.2.0",
            "_view_name": "LayoutView",
            "align_content": null,
            "align_items": null,
            "align_self": null,
            "border": null,
            "bottom": null,
            "display": null,
            "flex": null,
            "flex_flow": null,
            "grid_area": null,
            "grid_auto_columns": null,
            "grid_auto_flow": null,
            "grid_auto_rows": null,
            "grid_column": null,
            "grid_gap": null,
            "grid_row": null,
            "grid_template_areas": null,
            "grid_template_columns": null,
            "grid_template_rows": null,
            "height": null,
            "justify_content": null,
            "justify_items": null,
            "left": null,
            "margin": null,
            "max_height": null,
            "max_width": null,
            "min_height": null,
            "min_width": null,
            "object_fit": null,
            "object_position": null,
            "order": null,
            "overflow": null,
            "overflow_x": null,
            "overflow_y": null,
            "padding": null,
            "right": null,
            "top": null,
            "visibility": null,
            "width": "20px"
          }
        },
        "84b6be9ab9c1440fbbff925da33de059": {
          "model_module": "@jupyter-widgets/controls",
          "model_name": "ProgressStyleModel",
          "model_module_version": "1.5.0",
          "state": {
            "_model_module": "@jupyter-widgets/controls",
            "_model_module_version": "1.5.0",
            "_model_name": "ProgressStyleModel",
            "_view_count": null,
            "_view_module": "@jupyter-widgets/base",
            "_view_module_version": "1.2.0",
            "_view_name": "StyleView",
            "bar_color": null,
            "description_width": ""
          }
        },
        "1208d9389b704f04b1ad1e0a6f377909": {
          "model_module": "@jupyter-widgets/base",
          "model_name": "LayoutModel",
          "model_module_version": "1.2.0",
          "state": {
            "_model_module": "@jupyter-widgets/base",
            "_model_module_version": "1.2.0",
            "_model_name": "LayoutModel",
            "_view_count": null,
            "_view_module": "@jupyter-widgets/base",
            "_view_module_version": "1.2.0",
            "_view_name": "LayoutView",
            "align_content": null,
            "align_items": null,
            "align_self": null,
            "border": null,
            "bottom": null,
            "display": null,
            "flex": null,
            "flex_flow": null,
            "grid_area": null,
            "grid_auto_columns": null,
            "grid_auto_flow": null,
            "grid_auto_rows": null,
            "grid_column": null,
            "grid_gap": null,
            "grid_row": null,
            "grid_template_areas": null,
            "grid_template_columns": null,
            "grid_template_rows": null,
            "height": null,
            "justify_content": null,
            "justify_items": null,
            "left": null,
            "margin": null,
            "max_height": null,
            "max_width": null,
            "min_height": null,
            "min_width": null,
            "object_fit": null,
            "object_position": null,
            "order": null,
            "overflow": null,
            "overflow_x": null,
            "overflow_y": null,
            "padding": null,
            "right": null,
            "top": null,
            "visibility": null,
            "width": null
          }
        },
        "5235dfae7490485da12ccc9b30f5adb2": {
          "model_module": "@jupyter-widgets/controls",
          "model_name": "DescriptionStyleModel",
          "model_module_version": "1.5.0",
          "state": {
            "_model_module": "@jupyter-widgets/controls",
            "_model_module_version": "1.5.0",
            "_model_name": "DescriptionStyleModel",
            "_view_count": null,
            "_view_module": "@jupyter-widgets/base",
            "_view_module_version": "1.2.0",
            "_view_name": "StyleView",
            "description_width": ""
          }
        },
        "22f5cbaccb88467b92cf2b3afc5d4d89": {
          "model_module": "@jupyter-widgets/controls",
          "model_name": "HBoxModel",
          "model_module_version": "1.5.0",
          "state": {
            "_dom_classes": [],
            "_model_module": "@jupyter-widgets/controls",
            "_model_module_version": "1.5.0",
            "_model_name": "HBoxModel",
            "_view_count": null,
            "_view_module": "@jupyter-widgets/controls",
            "_view_module_version": "1.5.0",
            "_view_name": "HBoxView",
            "box_style": "",
            "children": [
              "IPY_MODEL_e31dfa3a97f24b0c9cd18e4d0596928c",
              "IPY_MODEL_ea289e7e7fb4403b92987dca0943b46c",
              "IPY_MODEL_6629bc1021324f5d9246000fb9f1dee1"
            ],
            "layout": "IPY_MODEL_bc3c7bb72c0745349a64798c4c6ba005"
          }
        },
        "e31dfa3a97f24b0c9cd18e4d0596928c": {
          "model_module": "@jupyter-widgets/controls",
          "model_name": "HTMLModel",
          "model_module_version": "1.5.0",
          "state": {
            "_dom_classes": [],
            "_model_module": "@jupyter-widgets/controls",
            "_model_module_version": "1.5.0",
            "_model_name": "HTMLModel",
            "_view_count": null,
            "_view_module": "@jupyter-widgets/controls",
            "_view_module_version": "1.5.0",
            "_view_name": "HTMLView",
            "description": "",
            "description_tooltip": null,
            "layout": "IPY_MODEL_caf00ae3c42b4a5883626598034f3f72",
            "placeholder": "​",
            "style": "IPY_MODEL_09caa140fc65454ba8ff12e4c912b9a8",
            "value": "Shuffling /root/tensorflow_datasets/kmnist/incomplete.YR7OVD_3.0.1/kmnist-train.tfrecord*...:   0%"
          }
        },
        "ea289e7e7fb4403b92987dca0943b46c": {
          "model_module": "@jupyter-widgets/controls",
          "model_name": "FloatProgressModel",
          "model_module_version": "1.5.0",
          "state": {
            "_dom_classes": [],
            "_model_module": "@jupyter-widgets/controls",
            "_model_module_version": "1.5.0",
            "_model_name": "FloatProgressModel",
            "_view_count": null,
            "_view_module": "@jupyter-widgets/controls",
            "_view_module_version": "1.5.0",
            "_view_name": "ProgressView",
            "bar_style": "",
            "description": "",
            "description_tooltip": null,
            "layout": "IPY_MODEL_ad3fb62d8ccc4e799aa8abb8ddabc604",
            "max": 60000,
            "min": 0,
            "orientation": "horizontal",
            "style": "IPY_MODEL_8b2e3eeefb4b4533a787e11d57aa5b1c",
            "value": 60000
          }
        },
        "6629bc1021324f5d9246000fb9f1dee1": {
          "model_module": "@jupyter-widgets/controls",
          "model_name": "HTMLModel",
          "model_module_version": "1.5.0",
          "state": {
            "_dom_classes": [],
            "_model_module": "@jupyter-widgets/controls",
            "_model_module_version": "1.5.0",
            "_model_name": "HTMLModel",
            "_view_count": null,
            "_view_module": "@jupyter-widgets/controls",
            "_view_module_version": "1.5.0",
            "_view_name": "HTMLView",
            "description": "",
            "description_tooltip": null,
            "layout": "IPY_MODEL_e9387e229c814f8aa3d2de79912b0fbf",
            "placeholder": "​",
            "style": "IPY_MODEL_9ff3a0ef8b16433084bbabca846ee8b0",
            "value": " 0/60000 [00:00&lt;?, ? examples/s]"
          }
        },
        "bc3c7bb72c0745349a64798c4c6ba005": {
          "model_module": "@jupyter-widgets/base",
          "model_name": "LayoutModel",
          "model_module_version": "1.2.0",
          "state": {
            "_model_module": "@jupyter-widgets/base",
            "_model_module_version": "1.2.0",
            "_model_name": "LayoutModel",
            "_view_count": null,
            "_view_module": "@jupyter-widgets/base",
            "_view_module_version": "1.2.0",
            "_view_name": "LayoutView",
            "align_content": null,
            "align_items": null,
            "align_self": null,
            "border": null,
            "bottom": null,
            "display": null,
            "flex": null,
            "flex_flow": null,
            "grid_area": null,
            "grid_auto_columns": null,
            "grid_auto_flow": null,
            "grid_auto_rows": null,
            "grid_column": null,
            "grid_gap": null,
            "grid_row": null,
            "grid_template_areas": null,
            "grid_template_columns": null,
            "grid_template_rows": null,
            "height": null,
            "justify_content": null,
            "justify_items": null,
            "left": null,
            "margin": null,
            "max_height": null,
            "max_width": null,
            "min_height": null,
            "min_width": null,
            "object_fit": null,
            "object_position": null,
            "order": null,
            "overflow": null,
            "overflow_x": null,
            "overflow_y": null,
            "padding": null,
            "right": null,
            "top": null,
            "visibility": "hidden",
            "width": null
          }
        },
        "caf00ae3c42b4a5883626598034f3f72": {
          "model_module": "@jupyter-widgets/base",
          "model_name": "LayoutModel",
          "model_module_version": "1.2.0",
          "state": {
            "_model_module": "@jupyter-widgets/base",
            "_model_module_version": "1.2.0",
            "_model_name": "LayoutModel",
            "_view_count": null,
            "_view_module": "@jupyter-widgets/base",
            "_view_module_version": "1.2.0",
            "_view_name": "LayoutView",
            "align_content": null,
            "align_items": null,
            "align_self": null,
            "border": null,
            "bottom": null,
            "display": null,
            "flex": null,
            "flex_flow": null,
            "grid_area": null,
            "grid_auto_columns": null,
            "grid_auto_flow": null,
            "grid_auto_rows": null,
            "grid_column": null,
            "grid_gap": null,
            "grid_row": null,
            "grid_template_areas": null,
            "grid_template_columns": null,
            "grid_template_rows": null,
            "height": null,
            "justify_content": null,
            "justify_items": null,
            "left": null,
            "margin": null,
            "max_height": null,
            "max_width": null,
            "min_height": null,
            "min_width": null,
            "object_fit": null,
            "object_position": null,
            "order": null,
            "overflow": null,
            "overflow_x": null,
            "overflow_y": null,
            "padding": null,
            "right": null,
            "top": null,
            "visibility": null,
            "width": null
          }
        },
        "09caa140fc65454ba8ff12e4c912b9a8": {
          "model_module": "@jupyter-widgets/controls",
          "model_name": "DescriptionStyleModel",
          "model_module_version": "1.5.0",
          "state": {
            "_model_module": "@jupyter-widgets/controls",
            "_model_module_version": "1.5.0",
            "_model_name": "DescriptionStyleModel",
            "_view_count": null,
            "_view_module": "@jupyter-widgets/base",
            "_view_module_version": "1.2.0",
            "_view_name": "StyleView",
            "description_width": ""
          }
        },
        "ad3fb62d8ccc4e799aa8abb8ddabc604": {
          "model_module": "@jupyter-widgets/base",
          "model_name": "LayoutModel",
          "model_module_version": "1.2.0",
          "state": {
            "_model_module": "@jupyter-widgets/base",
            "_model_module_version": "1.2.0",
            "_model_name": "LayoutModel",
            "_view_count": null,
            "_view_module": "@jupyter-widgets/base",
            "_view_module_version": "1.2.0",
            "_view_name": "LayoutView",
            "align_content": null,
            "align_items": null,
            "align_self": null,
            "border": null,
            "bottom": null,
            "display": null,
            "flex": null,
            "flex_flow": null,
            "grid_area": null,
            "grid_auto_columns": null,
            "grid_auto_flow": null,
            "grid_auto_rows": null,
            "grid_column": null,
            "grid_gap": null,
            "grid_row": null,
            "grid_template_areas": null,
            "grid_template_columns": null,
            "grid_template_rows": null,
            "height": null,
            "justify_content": null,
            "justify_items": null,
            "left": null,
            "margin": null,
            "max_height": null,
            "max_width": null,
            "min_height": null,
            "min_width": null,
            "object_fit": null,
            "object_position": null,
            "order": null,
            "overflow": null,
            "overflow_x": null,
            "overflow_y": null,
            "padding": null,
            "right": null,
            "top": null,
            "visibility": null,
            "width": null
          }
        },
        "8b2e3eeefb4b4533a787e11d57aa5b1c": {
          "model_module": "@jupyter-widgets/controls",
          "model_name": "ProgressStyleModel",
          "model_module_version": "1.5.0",
          "state": {
            "_model_module": "@jupyter-widgets/controls",
            "_model_module_version": "1.5.0",
            "_model_name": "ProgressStyleModel",
            "_view_count": null,
            "_view_module": "@jupyter-widgets/base",
            "_view_module_version": "1.2.0",
            "_view_name": "StyleView",
            "bar_color": null,
            "description_width": ""
          }
        },
        "e9387e229c814f8aa3d2de79912b0fbf": {
          "model_module": "@jupyter-widgets/base",
          "model_name": "LayoutModel",
          "model_module_version": "1.2.0",
          "state": {
            "_model_module": "@jupyter-widgets/base",
            "_model_module_version": "1.2.0",
            "_model_name": "LayoutModel",
            "_view_count": null,
            "_view_module": "@jupyter-widgets/base",
            "_view_module_version": "1.2.0",
            "_view_name": "LayoutView",
            "align_content": null,
            "align_items": null,
            "align_self": null,
            "border": null,
            "bottom": null,
            "display": null,
            "flex": null,
            "flex_flow": null,
            "grid_area": null,
            "grid_auto_columns": null,
            "grid_auto_flow": null,
            "grid_auto_rows": null,
            "grid_column": null,
            "grid_gap": null,
            "grid_row": null,
            "grid_template_areas": null,
            "grid_template_columns": null,
            "grid_template_rows": null,
            "height": null,
            "justify_content": null,
            "justify_items": null,
            "left": null,
            "margin": null,
            "max_height": null,
            "max_width": null,
            "min_height": null,
            "min_width": null,
            "object_fit": null,
            "object_position": null,
            "order": null,
            "overflow": null,
            "overflow_x": null,
            "overflow_y": null,
            "padding": null,
            "right": null,
            "top": null,
            "visibility": null,
            "width": null
          }
        },
        "9ff3a0ef8b16433084bbabca846ee8b0": {
          "model_module": "@jupyter-widgets/controls",
          "model_name": "DescriptionStyleModel",
          "model_module_version": "1.5.0",
          "state": {
            "_model_module": "@jupyter-widgets/controls",
            "_model_module_version": "1.5.0",
            "_model_name": "DescriptionStyleModel",
            "_view_count": null,
            "_view_module": "@jupyter-widgets/base",
            "_view_module_version": "1.2.0",
            "_view_name": "StyleView",
            "description_width": ""
          }
        },
        "3019106fad9f4ba095d52f23e61b9fb4": {
          "model_module": "@jupyter-widgets/controls",
          "model_name": "HBoxModel",
          "model_module_version": "1.5.0",
          "state": {
            "_dom_classes": [],
            "_model_module": "@jupyter-widgets/controls",
            "_model_module_version": "1.5.0",
            "_model_name": "HBoxModel",
            "_view_count": null,
            "_view_module": "@jupyter-widgets/controls",
            "_view_module_version": "1.5.0",
            "_view_name": "HBoxView",
            "box_style": "",
            "children": [
              "IPY_MODEL_b99d78f666164645b298c3a073633ad4",
              "IPY_MODEL_d342b52bb7684384ab470586c2982415",
              "IPY_MODEL_e937b5143bc6482599302259b691f83c"
            ],
            "layout": "IPY_MODEL_5ce3b39b3e244a12ad4291edcd0f6e98"
          }
        },
        "b99d78f666164645b298c3a073633ad4": {
          "model_module": "@jupyter-widgets/controls",
          "model_name": "HTMLModel",
          "model_module_version": "1.5.0",
          "state": {
            "_dom_classes": [],
            "_model_module": "@jupyter-widgets/controls",
            "_model_module_version": "1.5.0",
            "_model_name": "HTMLModel",
            "_view_count": null,
            "_view_module": "@jupyter-widgets/controls",
            "_view_module_version": "1.5.0",
            "_view_name": "HTMLView",
            "description": "",
            "description_tooltip": null,
            "layout": "IPY_MODEL_7b6762bd86924dce992629e00bad6f2e",
            "placeholder": "​",
            "style": "IPY_MODEL_28dc71f7deee43e19e5c97a177a41b7c",
            "value": "Generating test examples...: "
          }
        },
        "d342b52bb7684384ab470586c2982415": {
          "model_module": "@jupyter-widgets/controls",
          "model_name": "FloatProgressModel",
          "model_module_version": "1.5.0",
          "state": {
            "_dom_classes": [],
            "_model_module": "@jupyter-widgets/controls",
            "_model_module_version": "1.5.0",
            "_model_name": "FloatProgressModel",
            "_view_count": null,
            "_view_module": "@jupyter-widgets/controls",
            "_view_module_version": "1.5.0",
            "_view_name": "ProgressView",
            "bar_style": "info",
            "description": "",
            "description_tooltip": null,
            "layout": "IPY_MODEL_8f79267cba724712b0efc85082449df4",
            "max": 1,
            "min": 0,
            "orientation": "horizontal",
            "style": "IPY_MODEL_73cc8848fb624a73b6fedf3c9300a8be",
            "value": 1
          }
        },
        "e937b5143bc6482599302259b691f83c": {
          "model_module": "@jupyter-widgets/controls",
          "model_name": "HTMLModel",
          "model_module_version": "1.5.0",
          "state": {
            "_dom_classes": [],
            "_model_module": "@jupyter-widgets/controls",
            "_model_module_version": "1.5.0",
            "_model_name": "HTMLModel",
            "_view_count": null,
            "_view_module": "@jupyter-widgets/controls",
            "_view_module_version": "1.5.0",
            "_view_name": "HTMLView",
            "description": "",
            "description_tooltip": null,
            "layout": "IPY_MODEL_7ff34762f0184c8fb7f35d15ffbc8a09",
            "placeholder": "​",
            "style": "IPY_MODEL_7f1e37c62ed24d07b95fe14386c06d80",
            "value": " 9098/? [00:06&lt;00:00, 1547.93 examples/s]"
          }
        },
        "5ce3b39b3e244a12ad4291edcd0f6e98": {
          "model_module": "@jupyter-widgets/base",
          "model_name": "LayoutModel",
          "model_module_version": "1.2.0",
          "state": {
            "_model_module": "@jupyter-widgets/base",
            "_model_module_version": "1.2.0",
            "_model_name": "LayoutModel",
            "_view_count": null,
            "_view_module": "@jupyter-widgets/base",
            "_view_module_version": "1.2.0",
            "_view_name": "LayoutView",
            "align_content": null,
            "align_items": null,
            "align_self": null,
            "border": null,
            "bottom": null,
            "display": null,
            "flex": null,
            "flex_flow": null,
            "grid_area": null,
            "grid_auto_columns": null,
            "grid_auto_flow": null,
            "grid_auto_rows": null,
            "grid_column": null,
            "grid_gap": null,
            "grid_row": null,
            "grid_template_areas": null,
            "grid_template_columns": null,
            "grid_template_rows": null,
            "height": null,
            "justify_content": null,
            "justify_items": null,
            "left": null,
            "margin": null,
            "max_height": null,
            "max_width": null,
            "min_height": null,
            "min_width": null,
            "object_fit": null,
            "object_position": null,
            "order": null,
            "overflow": null,
            "overflow_x": null,
            "overflow_y": null,
            "padding": null,
            "right": null,
            "top": null,
            "visibility": "hidden",
            "width": null
          }
        },
        "7b6762bd86924dce992629e00bad6f2e": {
          "model_module": "@jupyter-widgets/base",
          "model_name": "LayoutModel",
          "model_module_version": "1.2.0",
          "state": {
            "_model_module": "@jupyter-widgets/base",
            "_model_module_version": "1.2.0",
            "_model_name": "LayoutModel",
            "_view_count": null,
            "_view_module": "@jupyter-widgets/base",
            "_view_module_version": "1.2.0",
            "_view_name": "LayoutView",
            "align_content": null,
            "align_items": null,
            "align_self": null,
            "border": null,
            "bottom": null,
            "display": null,
            "flex": null,
            "flex_flow": null,
            "grid_area": null,
            "grid_auto_columns": null,
            "grid_auto_flow": null,
            "grid_auto_rows": null,
            "grid_column": null,
            "grid_gap": null,
            "grid_row": null,
            "grid_template_areas": null,
            "grid_template_columns": null,
            "grid_template_rows": null,
            "height": null,
            "justify_content": null,
            "justify_items": null,
            "left": null,
            "margin": null,
            "max_height": null,
            "max_width": null,
            "min_height": null,
            "min_width": null,
            "object_fit": null,
            "object_position": null,
            "order": null,
            "overflow": null,
            "overflow_x": null,
            "overflow_y": null,
            "padding": null,
            "right": null,
            "top": null,
            "visibility": null,
            "width": null
          }
        },
        "28dc71f7deee43e19e5c97a177a41b7c": {
          "model_module": "@jupyter-widgets/controls",
          "model_name": "DescriptionStyleModel",
          "model_module_version": "1.5.0",
          "state": {
            "_model_module": "@jupyter-widgets/controls",
            "_model_module_version": "1.5.0",
            "_model_name": "DescriptionStyleModel",
            "_view_count": null,
            "_view_module": "@jupyter-widgets/base",
            "_view_module_version": "1.2.0",
            "_view_name": "StyleView",
            "description_width": ""
          }
        },
        "8f79267cba724712b0efc85082449df4": {
          "model_module": "@jupyter-widgets/base",
          "model_name": "LayoutModel",
          "model_module_version": "1.2.0",
          "state": {
            "_model_module": "@jupyter-widgets/base",
            "_model_module_version": "1.2.0",
            "_model_name": "LayoutModel",
            "_view_count": null,
            "_view_module": "@jupyter-widgets/base",
            "_view_module_version": "1.2.0",
            "_view_name": "LayoutView",
            "align_content": null,
            "align_items": null,
            "align_self": null,
            "border": null,
            "bottom": null,
            "display": null,
            "flex": null,
            "flex_flow": null,
            "grid_area": null,
            "grid_auto_columns": null,
            "grid_auto_flow": null,
            "grid_auto_rows": null,
            "grid_column": null,
            "grid_gap": null,
            "grid_row": null,
            "grid_template_areas": null,
            "grid_template_columns": null,
            "grid_template_rows": null,
            "height": null,
            "justify_content": null,
            "justify_items": null,
            "left": null,
            "margin": null,
            "max_height": null,
            "max_width": null,
            "min_height": null,
            "min_width": null,
            "object_fit": null,
            "object_position": null,
            "order": null,
            "overflow": null,
            "overflow_x": null,
            "overflow_y": null,
            "padding": null,
            "right": null,
            "top": null,
            "visibility": null,
            "width": "20px"
          }
        },
        "73cc8848fb624a73b6fedf3c9300a8be": {
          "model_module": "@jupyter-widgets/controls",
          "model_name": "ProgressStyleModel",
          "model_module_version": "1.5.0",
          "state": {
            "_model_module": "@jupyter-widgets/controls",
            "_model_module_version": "1.5.0",
            "_model_name": "ProgressStyleModel",
            "_view_count": null,
            "_view_module": "@jupyter-widgets/base",
            "_view_module_version": "1.2.0",
            "_view_name": "StyleView",
            "bar_color": null,
            "description_width": ""
          }
        },
        "7ff34762f0184c8fb7f35d15ffbc8a09": {
          "model_module": "@jupyter-widgets/base",
          "model_name": "LayoutModel",
          "model_module_version": "1.2.0",
          "state": {
            "_model_module": "@jupyter-widgets/base",
            "_model_module_version": "1.2.0",
            "_model_name": "LayoutModel",
            "_view_count": null,
            "_view_module": "@jupyter-widgets/base",
            "_view_module_version": "1.2.0",
            "_view_name": "LayoutView",
            "align_content": null,
            "align_items": null,
            "align_self": null,
            "border": null,
            "bottom": null,
            "display": null,
            "flex": null,
            "flex_flow": null,
            "grid_area": null,
            "grid_auto_columns": null,
            "grid_auto_flow": null,
            "grid_auto_rows": null,
            "grid_column": null,
            "grid_gap": null,
            "grid_row": null,
            "grid_template_areas": null,
            "grid_template_columns": null,
            "grid_template_rows": null,
            "height": null,
            "justify_content": null,
            "justify_items": null,
            "left": null,
            "margin": null,
            "max_height": null,
            "max_width": null,
            "min_height": null,
            "min_width": null,
            "object_fit": null,
            "object_position": null,
            "order": null,
            "overflow": null,
            "overflow_x": null,
            "overflow_y": null,
            "padding": null,
            "right": null,
            "top": null,
            "visibility": null,
            "width": null
          }
        },
        "7f1e37c62ed24d07b95fe14386c06d80": {
          "model_module": "@jupyter-widgets/controls",
          "model_name": "DescriptionStyleModel",
          "model_module_version": "1.5.0",
          "state": {
            "_model_module": "@jupyter-widgets/controls",
            "_model_module_version": "1.5.0",
            "_model_name": "DescriptionStyleModel",
            "_view_count": null,
            "_view_module": "@jupyter-widgets/base",
            "_view_module_version": "1.2.0",
            "_view_name": "StyleView",
            "description_width": ""
          }
        },
        "49ef8fd73a464deaa87063d31b4551c2": {
          "model_module": "@jupyter-widgets/controls",
          "model_name": "HBoxModel",
          "model_module_version": "1.5.0",
          "state": {
            "_dom_classes": [],
            "_model_module": "@jupyter-widgets/controls",
            "_model_module_version": "1.5.0",
            "_model_name": "HBoxModel",
            "_view_count": null,
            "_view_module": "@jupyter-widgets/controls",
            "_view_module_version": "1.5.0",
            "_view_name": "HBoxView",
            "box_style": "",
            "children": [
              "IPY_MODEL_8ce4a8f53c544f55b94a4428261389a3",
              "IPY_MODEL_e399e56fb3f149409552f9d6728ce3e1",
              "IPY_MODEL_8cc85ec6b2c44c97aabaf70841c7e637"
            ],
            "layout": "IPY_MODEL_2acc84fccd214d69b25feebd83fafc6e"
          }
        },
        "8ce4a8f53c544f55b94a4428261389a3": {
          "model_module": "@jupyter-widgets/controls",
          "model_name": "HTMLModel",
          "model_module_version": "1.5.0",
          "state": {
            "_dom_classes": [],
            "_model_module": "@jupyter-widgets/controls",
            "_model_module_version": "1.5.0",
            "_model_name": "HTMLModel",
            "_view_count": null,
            "_view_module": "@jupyter-widgets/controls",
            "_view_module_version": "1.5.0",
            "_view_name": "HTMLView",
            "description": "",
            "description_tooltip": null,
            "layout": "IPY_MODEL_37e2337f828a4d3cadcfdefd3e292732",
            "placeholder": "​",
            "style": "IPY_MODEL_851f4cc3bbd24910b284bea6a7aea22e",
            "value": "Shuffling /root/tensorflow_datasets/kmnist/incomplete.YR7OVD_3.0.1/kmnist-test.tfrecord*...:   0%"
          }
        },
        "e399e56fb3f149409552f9d6728ce3e1": {
          "model_module": "@jupyter-widgets/controls",
          "model_name": "FloatProgressModel",
          "model_module_version": "1.5.0",
          "state": {
            "_dom_classes": [],
            "_model_module": "@jupyter-widgets/controls",
            "_model_module_version": "1.5.0",
            "_model_name": "FloatProgressModel",
            "_view_count": null,
            "_view_module": "@jupyter-widgets/controls",
            "_view_module_version": "1.5.0",
            "_view_name": "ProgressView",
            "bar_style": "",
            "description": "",
            "description_tooltip": null,
            "layout": "IPY_MODEL_b69d2fa510c7499aa6f929dbcc04fe79",
            "max": 10000,
            "min": 0,
            "orientation": "horizontal",
            "style": "IPY_MODEL_e1744fc17b7943b6949c99967859eb11",
            "value": 10000
          }
        },
        "8cc85ec6b2c44c97aabaf70841c7e637": {
          "model_module": "@jupyter-widgets/controls",
          "model_name": "HTMLModel",
          "model_module_version": "1.5.0",
          "state": {
            "_dom_classes": [],
            "_model_module": "@jupyter-widgets/controls",
            "_model_module_version": "1.5.0",
            "_model_name": "HTMLModel",
            "_view_count": null,
            "_view_module": "@jupyter-widgets/controls",
            "_view_module_version": "1.5.0",
            "_view_name": "HTMLView",
            "description": "",
            "description_tooltip": null,
            "layout": "IPY_MODEL_19b628c8e90d4046bbf5d58ef350bdba",
            "placeholder": "​",
            "style": "IPY_MODEL_bbd6d6632ba44992a8196797c8b08fdd",
            "value": " 0/10000 [00:00&lt;?, ? examples/s]"
          }
        },
        "2acc84fccd214d69b25feebd83fafc6e": {
          "model_module": "@jupyter-widgets/base",
          "model_name": "LayoutModel",
          "model_module_version": "1.2.0",
          "state": {
            "_model_module": "@jupyter-widgets/base",
            "_model_module_version": "1.2.0",
            "_model_name": "LayoutModel",
            "_view_count": null,
            "_view_module": "@jupyter-widgets/base",
            "_view_module_version": "1.2.0",
            "_view_name": "LayoutView",
            "align_content": null,
            "align_items": null,
            "align_self": null,
            "border": null,
            "bottom": null,
            "display": null,
            "flex": null,
            "flex_flow": null,
            "grid_area": null,
            "grid_auto_columns": null,
            "grid_auto_flow": null,
            "grid_auto_rows": null,
            "grid_column": null,
            "grid_gap": null,
            "grid_row": null,
            "grid_template_areas": null,
            "grid_template_columns": null,
            "grid_template_rows": null,
            "height": null,
            "justify_content": null,
            "justify_items": null,
            "left": null,
            "margin": null,
            "max_height": null,
            "max_width": null,
            "min_height": null,
            "min_width": null,
            "object_fit": null,
            "object_position": null,
            "order": null,
            "overflow": null,
            "overflow_x": null,
            "overflow_y": null,
            "padding": null,
            "right": null,
            "top": null,
            "visibility": "hidden",
            "width": null
          }
        },
        "37e2337f828a4d3cadcfdefd3e292732": {
          "model_module": "@jupyter-widgets/base",
          "model_name": "LayoutModel",
          "model_module_version": "1.2.0",
          "state": {
            "_model_module": "@jupyter-widgets/base",
            "_model_module_version": "1.2.0",
            "_model_name": "LayoutModel",
            "_view_count": null,
            "_view_module": "@jupyter-widgets/base",
            "_view_module_version": "1.2.0",
            "_view_name": "LayoutView",
            "align_content": null,
            "align_items": null,
            "align_self": null,
            "border": null,
            "bottom": null,
            "display": null,
            "flex": null,
            "flex_flow": null,
            "grid_area": null,
            "grid_auto_columns": null,
            "grid_auto_flow": null,
            "grid_auto_rows": null,
            "grid_column": null,
            "grid_gap": null,
            "grid_row": null,
            "grid_template_areas": null,
            "grid_template_columns": null,
            "grid_template_rows": null,
            "height": null,
            "justify_content": null,
            "justify_items": null,
            "left": null,
            "margin": null,
            "max_height": null,
            "max_width": null,
            "min_height": null,
            "min_width": null,
            "object_fit": null,
            "object_position": null,
            "order": null,
            "overflow": null,
            "overflow_x": null,
            "overflow_y": null,
            "padding": null,
            "right": null,
            "top": null,
            "visibility": null,
            "width": null
          }
        },
        "851f4cc3bbd24910b284bea6a7aea22e": {
          "model_module": "@jupyter-widgets/controls",
          "model_name": "DescriptionStyleModel",
          "model_module_version": "1.5.0",
          "state": {
            "_model_module": "@jupyter-widgets/controls",
            "_model_module_version": "1.5.0",
            "_model_name": "DescriptionStyleModel",
            "_view_count": null,
            "_view_module": "@jupyter-widgets/base",
            "_view_module_version": "1.2.0",
            "_view_name": "StyleView",
            "description_width": ""
          }
        },
        "b69d2fa510c7499aa6f929dbcc04fe79": {
          "model_module": "@jupyter-widgets/base",
          "model_name": "LayoutModel",
          "model_module_version": "1.2.0",
          "state": {
            "_model_module": "@jupyter-widgets/base",
            "_model_module_version": "1.2.0",
            "_model_name": "LayoutModel",
            "_view_count": null,
            "_view_module": "@jupyter-widgets/base",
            "_view_module_version": "1.2.0",
            "_view_name": "LayoutView",
            "align_content": null,
            "align_items": null,
            "align_self": null,
            "border": null,
            "bottom": null,
            "display": null,
            "flex": null,
            "flex_flow": null,
            "grid_area": null,
            "grid_auto_columns": null,
            "grid_auto_flow": null,
            "grid_auto_rows": null,
            "grid_column": null,
            "grid_gap": null,
            "grid_row": null,
            "grid_template_areas": null,
            "grid_template_columns": null,
            "grid_template_rows": null,
            "height": null,
            "justify_content": null,
            "justify_items": null,
            "left": null,
            "margin": null,
            "max_height": null,
            "max_width": null,
            "min_height": null,
            "min_width": null,
            "object_fit": null,
            "object_position": null,
            "order": null,
            "overflow": null,
            "overflow_x": null,
            "overflow_y": null,
            "padding": null,
            "right": null,
            "top": null,
            "visibility": null,
            "width": null
          }
        },
        "e1744fc17b7943b6949c99967859eb11": {
          "model_module": "@jupyter-widgets/controls",
          "model_name": "ProgressStyleModel",
          "model_module_version": "1.5.0",
          "state": {
            "_model_module": "@jupyter-widgets/controls",
            "_model_module_version": "1.5.0",
            "_model_name": "ProgressStyleModel",
            "_view_count": null,
            "_view_module": "@jupyter-widgets/base",
            "_view_module_version": "1.2.0",
            "_view_name": "StyleView",
            "bar_color": null,
            "description_width": ""
          }
        },
        "19b628c8e90d4046bbf5d58ef350bdba": {
          "model_module": "@jupyter-widgets/base",
          "model_name": "LayoutModel",
          "model_module_version": "1.2.0",
          "state": {
            "_model_module": "@jupyter-widgets/base",
            "_model_module_version": "1.2.0",
            "_model_name": "LayoutModel",
            "_view_count": null,
            "_view_module": "@jupyter-widgets/base",
            "_view_module_version": "1.2.0",
            "_view_name": "LayoutView",
            "align_content": null,
            "align_items": null,
            "align_self": null,
            "border": null,
            "bottom": null,
            "display": null,
            "flex": null,
            "flex_flow": null,
            "grid_area": null,
            "grid_auto_columns": null,
            "grid_auto_flow": null,
            "grid_auto_rows": null,
            "grid_column": null,
            "grid_gap": null,
            "grid_row": null,
            "grid_template_areas": null,
            "grid_template_columns": null,
            "grid_template_rows": null,
            "height": null,
            "justify_content": null,
            "justify_items": null,
            "left": null,
            "margin": null,
            "max_height": null,
            "max_width": null,
            "min_height": null,
            "min_width": null,
            "object_fit": null,
            "object_position": null,
            "order": null,
            "overflow": null,
            "overflow_x": null,
            "overflow_y": null,
            "padding": null,
            "right": null,
            "top": null,
            "visibility": null,
            "width": null
          }
        },
        "bbd6d6632ba44992a8196797c8b08fdd": {
          "model_module": "@jupyter-widgets/controls",
          "model_name": "DescriptionStyleModel",
          "model_module_version": "1.5.0",
          "state": {
            "_model_module": "@jupyter-widgets/controls",
            "_model_module_version": "1.5.0",
            "_model_name": "DescriptionStyleModel",
            "_view_count": null,
            "_view_module": "@jupyter-widgets/base",
            "_view_module_version": "1.2.0",
            "_view_name": "StyleView",
            "description_width": ""
          }
        }
      }
    }
  },
  "cells": [
    {
      "cell_type": "code",
      "execution_count": 123,
      "metadata": {
        "id": "MBB_r2ZjYxcU"
      },
      "outputs": [],
      "source": [
        "import numpy as np\n",
        "import matplotlib.pyplot as plt\n",
        "import PIL.Image, PIL.ImageFont, PIL.ImageDraw\n",
        "import tensorflow as tf\n",
        "import tensorflow_datasets as tfds\n",
        "import os"
      ]
    },
    {
      "cell_type": "code",
      "source": [
        "width=75\n",
        "height=75\n",
        "normalized_coordinates=True"
      ],
      "metadata": {
        "id": "0s6JVXmTauzK"
      },
      "execution_count": 124,
      "outputs": []
    },
    {
      "cell_type": "markdown",
      "source": [
        " ### Draws a bounding box on an image (optionally with labels) using given coordinates."
      ],
      "metadata": {
        "id": "RMJ1o0tVAPJT"
      }
    },
    {
      "cell_type": "code",
      "source": [
        "def draw_bb_on_img(rgb_img, xmin, ymin, xmax, ymax, colour=\"red\", thickness=1,\n",
        "               display_str_list=(), normalized_coordinates=True):\n",
        "  draw=PIL.ImageDraw.Draw(rgb_img)\n",
        "  width, height=rgb_img.size\n",
        "  if normalized_coordinates:\n",
        "    (left, right, top, bottom)=(xmin*width, xmax*width, ymin*height, ymax*height)\n",
        "  else:\n",
        "    (left, right, top, bottom)=(xmin, xmax, ymin, ymax)\n",
        "  draw.line([(top, left), (bottom, left), (bottom, right), (top, right), (top, left)],\n",
        "            width=thickness,\n",
        "            fill=colour)"
      ],
      "metadata": {
        "id": "dZUEqO3Idl9c"
      },
      "execution_count": 125,
      "outputs": []
    },
    {
      "cell_type": "markdown",
      "source": [
        "### Draws multiple bounding boxes on an image."
      ],
      "metadata": {
        "id": "Qu8ZMVy_G5OD"
      }
    },
    {
      "cell_type": "code",
      "source": [
        "def draw_bbs_on_img(rgb_img, b, colour=[], thickness=1, display_str_list=()):\n",
        "  boxes_shape=b.shape\n",
        "  if not boxes_shape:\n",
        "    return\n",
        "  if len(boxes_shape)!=2 or boxes_shape[1]!=4:\n",
        "    raise ValueError(\"Input must be of size [N, 4]\")\n",
        "  for i in range(boxes_shape[0]):\n",
        "    draw_bb_on_img(rgb_img, b[i, 1], b[i, 0], b[i, 3], b[i, 2],\n",
        "                   colour[i], thickness, display_str_list[i])"
      ],
      "metadata": {
        "id": "TE1CeQXmcFM7"
      },
      "execution_count": 126,
      "outputs": []
    },
    {
      "cell_type": "markdown",
      "source": [
        "### Draw multiple bounding boxes on a NumPy image array and return the modified image as a NumPy array."
      ],
      "metadata": {
        "id": "O0a_TOHCHNjM"
      }
    },
    {
      "cell_type": "code",
      "source": [
        "def draw_bbs_on_img_array(img, b, colour=[], thickness=1, display_str_list=()):\n",
        "  img_PIL=PIL.Image.fromarray(img)\n",
        "  rgb_img=PIL.Image.new(\"RGBA\", img_PIL.size)\n",
        "  rgb_img.paste(img_PIL)\n",
        "  draw_bbs_on_img(rgb_img, b, colour, thickness, display_str_list)\n",
        "  return np.array(rgb_img)"
      ],
      "metadata": {
        "id": "sYlltuVWbJFS"
      },
      "execution_count": 127,
      "outputs": []
    },
    {
      "cell_type": "markdown",
      "source": [
        "### Converts a TensorFlow dataset (`train_ds`, `val_ds`, `test_ds`) into NumPy arrays — extracting one batch from each split."
      ],
      "metadata": {
        "id": "JMdR-g87H6V4"
      }
    },
    {
      "cell_type": "code",
      "source": [
        "def dataset_to_numpy(train_ds, val_ds, test_ds, N):\n",
        "\n",
        "  batch_train_ds=train_ds.unbatch().batch(N)\n",
        "\n",
        "  if tf.executing_eagerly():\n",
        "    for val_digits, (val_labels, val_boxes) in val_ds:\n",
        "      val_digits=val_digits.numpy()\n",
        "      val_labels=val_labels.numpy()\n",
        "      val_boxes=val_boxes.numpy()\n",
        "      break\n",
        "    for train_digits, (train_labels, train_boxes) in batch_train_ds:\n",
        "      train_digits=train_digits.numpy()\n",
        "      train_labels=train_labels.numpy()\n",
        "      train_boxes=train_boxes.numpy()\n",
        "      break\n",
        "    for test_digits, (test_labels, test_boxes) in test_ds:\n",
        "      test_digits=test_digits.numpy()\n",
        "      test_labels=test_labels.numpy()\n",
        "      test_boxes=test_boxes.numpy()\n",
        "      break\n",
        "\n",
        "  if len(val_labels.shape)>1:\n",
        "    val_labels=np.argmax(val_labels, axis=1)\n",
        "  if len(train_labels.shape)>1:\n",
        "    train_labels=np.argmax(train_labels, axis=1)\n",
        "  if len(test_labels.shape)>1:\n",
        "    test_labels=np.argmax(test_labels, axis=1)\n",
        "\n",
        "  return (val_digits, val_labels, val_boxes,\n",
        "          train_digits, train_labels, train_boxes,\n",
        "          test_digits, test_labels, test_boxes)"
      ],
      "metadata": {
        "id": "DH7AJeN7frFV"
      },
      "execution_count": 128,
      "outputs": []
    },
    {
      "cell_type": "markdown",
      "source": [
        "### Draw multiple bounding boxes (and optionally labels) on a NumPy image array and return the modified image as a NumPy array."
      ],
      "metadata": {
        "id": "UjKPJ-CFIfoH"
      }
    },
    {
      "cell_type": "code",
      "source": [
        "plt_font_dir=os.path.join(os.path.dirname(plt.__file__), \"mpl-data/fonts/ttf\")\n",
        "\n",
        "def create_digit_from_local_fonts(n):\n",
        "\n",
        "  font_labels=[]\n",
        "  img=PIL.Image.new(\"LA\", (75*n, 75), color=(0, 255))\n",
        "  font1=PIL.ImageFont.truetype(os.path.join(plt_font_dir, \"DejaVuSansMono-Oblique.ttf\"), 25)\n",
        "  font2=PIL.ImageFont.truetype(os.path.join(plt_font_dir, \"STIXGeneral.ttf\"), 25)\n",
        "  d=PIL.ImageDraw.Draw(img)\n",
        "\n",
        "  for i in range(n):\n",
        "    font_labels.append(i%10)\n",
        "    d.text((7+i*75, 0 if i<10 else -4), str(i%10), fill=(255, 255), font=font1 if i<10 else font2)\n",
        "\n",
        "  font_digits=np.array(img, np.float32)[:, 0]/255\n",
        "  font_digits=np.reshape(np.stack(np.split(np.reshape(font_digits, [75, 75*n]), n, axis=1), axis=0))\n",
        "  return font_digits, font_labels"
      ],
      "metadata": {
        "id": "xkJWdu-3gbtT"
      },
      "execution_count": 129,
      "outputs": []
    },
    {
      "cell_type": "markdown",
      "source": [
        "### Generates synthetic digit images using local system fonts (from matplotlib) and returns them as a NumPy array along with corresponding digit labels."
      ],
      "metadata": {
        "id": "yUqeijQvIQ4w"
      }
    },
    {
      "cell_type": "code",
      "source": [
        "def display_digits_with_boxes(digits, preds, labels, pred_boxes, boxes, iou, title, seed=16, iou_threshold=0.5):\n",
        "\n",
        "  n=10\n",
        "  row=1\n",
        "  column=10\n",
        "  np.random.seed(seed)\n",
        "  indexes=np.random.choice(len(digits), size=n, replace=False)\n",
        "  n_digits=digits[indexes]\n",
        "  n_preds=preds[indexes]\n",
        "  n_labels=labels[indexes]\n",
        "  n_iou=[]\n",
        "\n",
        "  if len(iou)>0:\n",
        "    n_iou=iou[indexes]\n",
        "  if len(pred_boxes)>0:\n",
        "    n_pred_boxes=pred_boxes[indexes]\n",
        "  if len(boxes)>0:\n",
        "    n_boxes=boxes[indexes]\n",
        "\n",
        "  n_digits=n_digits*255.0\n",
        "  n_digits=n_digits.reshape(n, 75, 75)\n",
        "  fig=plt.figure(figsize=(20, 5))\n",
        "  plt.title(title)\n",
        "  plt.xticks([])\n",
        "  plt.yticks([])\n",
        "\n",
        "  for i in range(n):\n",
        "    ax=fig.add_subplot(row, column, i+1)\n",
        "    boxes_to_plot=[]\n",
        "    c=[]\n",
        "    dsl=[]\n",
        "    if len(boxes)>i:\n",
        "      boxes_to_plot.append(n_boxes[i])\n",
        "      c.append(\"red\")\n",
        "      dsl.append(\"True\")\n",
        "    if len(pred_boxes)>i:\n",
        "      boxes_to_plot.append(n_pred_boxes[i])\n",
        "      c.append(\"blue\")\n",
        "      dsl.append(\"Prediction\")\n",
        "\n",
        "    img_to_draw=draw_bbs_on_img_array(img=n_digits[i],\n",
        "                                      b=np.asarray(boxes_to_plot),\n",
        "                                      colour=c,\n",
        "                                      display_str_list=dsl)\n",
        "    ax.set_xlabel(f\"True : {n_labels[i]}\\nPredicted : {n_preds[i]}\")\n",
        "    plt.xticks([])\n",
        "    plt.yticks([])\n",
        "\n",
        "    if n_preds[i]!=n_labels[i]:\n",
        "      ax.xaxis.label.set_color('red')\n",
        "\n",
        "    plt.imshow(img_to_draw)\n",
        "\n",
        "    if len(iou)>i:\n",
        "      colour=\"black\"\n",
        "      if n_iou[i][0]<iou_threshold:\n",
        "        colour=\"orange\"\n",
        "      ax.text(0.2, -0.5, \"iou : %s\"%(n_iou[i][0]), color=colour, transform=ax.transAxes)"
      ],
      "metadata": {
        "id": "F70Zvt17ggIA"
      },
      "execution_count": 130,
      "outputs": []
    },
    {
      "cell_type": "markdown",
      "source": [
        "### To plot training and validation metrics from a Keras `history` object."
      ],
      "metadata": {
        "id": "n5yiWnM6Il4G"
      }
    },
    {
      "cell_type": "code",
      "source": [
        "def plot_metrics(history, metric_name, title):\n",
        "  plt.title(title)\n",
        "  plt.plot(history.history[metric_name], \"b.-\", label=metric_name)\n",
        "  plt.plot(history.history[\"val_\"+metric_name], \"r.-\", label=\"val_\"+metric_name)"
      ],
      "metadata": {
        "id": "QWjz34tJgzjv"
      },
      "execution_count": 131,
      "outputs": []
    },
    {
      "cell_type": "markdown",
      "source": [
        "### Preprocesses an image-label pair from a TensorFlow Datasets (TFDS) digit dataset (like MNIST) by:\n",
        "\n",
        "- Placing the `28x28` digit randomly inside a `75x75` canvas.\n",
        "\n",
        "- Normalizing pixel values and computing a bounding box.\n",
        "\n",
        "- Returning the padded image, one-hot label, and bounding box."
      ],
      "metadata": {
        "id": "w-RHVJZKJFpe"
      }
    },
    {
      "cell_type": "code",
      "source": [
        "def read_image_tfds(img, label):\n",
        "\n",
        "  xmin=tf.random.uniform((), 0, 48, dtype=tf.int32)\n",
        "  ymin=tf.random.uniform((), 0, 48, dtype=tf.int32)\n",
        "\n",
        "  img=tf.reshape(img, (28, 28, 1))\n",
        "  img=tf.image.pad_to_bounding_box(img, ymin, xmin, 75, 75)\n",
        "  img=tf.cast(img, tf.float32)/255.0\n",
        "\n",
        "  xmin=tf.cast(xmin, tf.float32)\n",
        "  ymin=tf.cast(ymin, tf.float32)\n",
        "\n",
        "  xmax=(xmin+28)/75\n",
        "  ymax=(ymin+28)/75\n",
        "  xmin=xmin/75\n",
        "  ymin=ymin/75\n",
        "\n",
        "  box=tf.stack([xmin, ymin, xmax, ymax])\n",
        "  return img, (tf.one_hot(label, 10), box)"
      ],
      "metadata": {
        "id": "6VFjqWT1hGpz"
      },
      "execution_count": 132,
      "outputs": []
    },
    {
      "cell_type": "markdown",
      "source": [
        "- `tf.distribute.get_strategy()` retrieves the default distribution strategy.\n",
        "- `strategy.num_replicas_in_sync` tells you how many devices (replicas) are working in parallel under that strategy."
      ],
      "metadata": {
        "id": "nx-i1NonJtzJ"
      }
    },
    {
      "cell_type": "code",
      "source": [
        "strategy=tf.distribute.get_strategy()\n",
        "strategy.num_replicas_in_sync"
      ],
      "metadata": {
        "colab": {
          "base_uri": "https://localhost:8080/"
        },
        "id": "eZqn6_H5hKCJ",
        "outputId": "b211f76e-5851-40c5-a49b-c734a92a0849"
      },
      "execution_count": 133,
      "outputs": [
        {
          "output_type": "execute_result",
          "data": {
            "text/plain": [
              "1"
            ]
          },
          "metadata": {},
          "execution_count": 133
        }
      ]
    },
    {
      "cell_type": "code",
      "source": [
        "BATCH_SIZE=64*strategy.num_replicas_in_sync\n",
        "BATCH_SIZE"
      ],
      "metadata": {
        "colab": {
          "base_uri": "https://localhost:8080/"
        },
        "id": "fbdYcM7FhMBV",
        "outputId": "04bd32a2-b29b-4100-b7c4-70739cb6cede"
      },
      "execution_count": 134,
      "outputs": [
        {
          "output_type": "execute_result",
          "data": {
            "text/plain": [
              "64"
            ]
          },
          "metadata": {},
          "execution_count": 134
        }
      ]
    },
    {
      "cell_type": "code",
      "source": [
        "# base_ds=\"mnist\"\n",
        "# base_ds=\"fashion_mnist\"\n",
        "base_ds=\"kmnist\""
      ],
      "metadata": {
        "id": "GvHfofLiN-TH"
      },
      "execution_count": 135,
      "outputs": []
    },
    {
      "cell_type": "markdown",
      "source": [
        "### These functions create TensorFlow input pipelines for training, validation, and testing datasets using `tf.data` and `tf.distribute.Strategy` for distributed training."
      ],
      "metadata": {
        "id": "LThoJM4YKKy2"
      }
    },
    {
      "cell_type": "code",
      "source": [
        "def get_train_ds():\n",
        "\n",
        "  with strategy.scope():\n",
        "    ds=tfds.load(base_ds, split=\"train[:80%]\", as_supervised=True, try_gcs=True)\n",
        "    ds=ds.map(read_image_tfds, num_parallel_calls=16)\n",
        "    ds.shuffle(5000, reshuffle_each_iteration=True)\n",
        "    ds=ds.repeat()\n",
        "    ds=ds.batch(BATCH_SIZE, drop_remainder=True)\n",
        "    ds=ds.prefetch(tf.data.AUTOTUNE)\n",
        "  return ds"
      ],
      "metadata": {
        "id": "SAiG2qEMhN2D"
      },
      "execution_count": 136,
      "outputs": []
    },
    {
      "cell_type": "code",
      "source": [
        "def get_val_ds():\n",
        "\n",
        "  with strategy.scope():\n",
        "    ds=tfds.load(base_ds, split=\"train[80%:]\", as_supervised=True, try_gcs=True)\n",
        "    ds=ds.map(read_image_tfds, num_parallel_calls=16)\n",
        "    ds=ds.batch(10000, drop_remainder=True)\n",
        "  return ds"
      ],
      "metadata": {
        "id": "48xbPFNYhQe8"
      },
      "execution_count": 137,
      "outputs": []
    },
    {
      "cell_type": "code",
      "source": [
        "def get_test_ds():\n",
        "\n",
        "  with strategy.scope():\n",
        "    ds=tfds.load(base_ds, split=\"test\", as_supervised=True, try_gcs=True)\n",
        "    ds=ds.map(read_image_tfds, num_parallel_calls=16)\n",
        "    ds=ds.batch(10000, drop_remainder=True)\n",
        "  return ds"
      ],
      "metadata": {
        "id": "bNQ5W2CwhSI2"
      },
      "execution_count": 138,
      "outputs": []
    },
    {
      "cell_type": "markdown",
      "source": [
        "### This ensures that all variables and datasets created within the block are compatible with distributed training."
      ],
      "metadata": {
        "id": "YF8efhl3L_R-"
      }
    },
    {
      "cell_type": "code",
      "source": [
        "with strategy.scope():\n",
        "  train_ds=get_train_ds()\n",
        "  val_ds=get_val_ds()\n",
        "  test_ds=get_test_ds()"
      ],
      "metadata": {
        "colab": {
          "base_uri": "https://localhost:8080/",
          "height": 165,
          "referenced_widgets": [
            "bc9a408131834673aedfef11f6809f07",
            "63207d22fbb542f0885c9ca3e5d1e5f8",
            "7036b069d2774d36a5074ca9f255b1df",
            "412214f49ca5415fa1ded77d22d423a8",
            "80612e323f7c48bd980676e5d7d5cae2",
            "1b4b006550f44be5b7eb26678f0c2bf7",
            "af288696e56141dd8d7a0e9e363d8083",
            "567b4962683e4061b91c7e0922d09f9b",
            "8ec149b0b476403498826a2119f42fef",
            "729d9e9acada4825adf8ddeadf9362c2",
            "031a92eebd5548b7902d3ff7133378ca",
            "2617f71f6b254d348786f7370f538a0e",
            "dfb8d8f30fe040a3864c1d8935c33daa",
            "152945c6fb054a6bae20d9271db43887",
            "2c4ae39b69744c9687664b98f2c25367",
            "5f591ab2946240e2b24a5d8ef67e3d13",
            "6c2f44f084e84b529626f788406acceb",
            "e982bc0d88bd4480af38e49e2c304d18",
            "3dd23fa4e98c4c4ca9c13508f9738ea4",
            "2c8092ad42d4420bb9fc5d4bfab0a00d",
            "842815cd4d0b4587aee4555c83f3d1ec",
            "ae07d913fd644cfbba975551faa005f4",
            "57606a0c60ea4cca84b901dc9d72cb87",
            "7a3f788a28e74561a62eb3d97226b561",
            "4a6bf9acd4e14bc3a4611d4cd21e640d",
            "a7d5e658f7d447c5869f7afd98fb09e1",
            "005ea071be6443b795f79c3b21d73a79",
            "b43852d49499445eaa9ca27a679695f3",
            "219723cc69114f3790a4523a2ec5902e",
            "c0fbf6c4ea0d403c9a2096602285e8a8",
            "966d9b1fa90744438939b9a060f6369a",
            "92e0103a8eb6418c90a08852ce402c01",
            "8e2d3420ffbd442bb53cc5fc4e7f41f4",
            "4707e8ea02de430cb63c35baaeb80b4c",
            "df94e83dbade49718a2795d609b6f2ff",
            "173ca2b1074c45b9a073c6389fdc735b",
            "a8e29251ecaf4a998d83d02e5a243529",
            "0afe4fd3bad14b8f8c8e4602cd2884b2",
            "ba47eda363884da89a90829acf795fb9",
            "200b83e35bef49118084573bc82d61a0",
            "43a000bd2a61484c8e6d5f76babd88fb",
            "e68d2c3df482434eb48228a5b6e4d642",
            "c7c79666c80b4d6d8f003d8c3ed4c08f",
            "1717a1a0d9424f278307f77bee3fc259",
            "0b6a61add4334fda8af1a76c0f229d25",
            "fa1eeeb72e0944bb88420296f63f1e2b",
            "baba4082507644acaafc1aea18b3faa7",
            "2a6d845466884642b8fcc03455087720",
            "eb1e6f3208fe4214a8e9267650acf5cd",
            "e0baad57ff9448bb94f1c7188237379b",
            "6aa2b955268940d7bb99dfb70f523632",
            "1631cc2470b04ade8b100ebc00c1cbc8",
            "84b6be9ab9c1440fbbff925da33de059",
            "1208d9389b704f04b1ad1e0a6f377909",
            "5235dfae7490485da12ccc9b30f5adb2",
            "22f5cbaccb88467b92cf2b3afc5d4d89",
            "e31dfa3a97f24b0c9cd18e4d0596928c",
            "ea289e7e7fb4403b92987dca0943b46c",
            "6629bc1021324f5d9246000fb9f1dee1",
            "bc3c7bb72c0745349a64798c4c6ba005",
            "caf00ae3c42b4a5883626598034f3f72",
            "09caa140fc65454ba8ff12e4c912b9a8",
            "ad3fb62d8ccc4e799aa8abb8ddabc604",
            "8b2e3eeefb4b4533a787e11d57aa5b1c",
            "e9387e229c814f8aa3d2de79912b0fbf",
            "9ff3a0ef8b16433084bbabca846ee8b0",
            "3019106fad9f4ba095d52f23e61b9fb4",
            "b99d78f666164645b298c3a073633ad4",
            "d342b52bb7684384ab470586c2982415",
            "e937b5143bc6482599302259b691f83c",
            "5ce3b39b3e244a12ad4291edcd0f6e98",
            "7b6762bd86924dce992629e00bad6f2e",
            "28dc71f7deee43e19e5c97a177a41b7c",
            "8f79267cba724712b0efc85082449df4",
            "73cc8848fb624a73b6fedf3c9300a8be",
            "7ff34762f0184c8fb7f35d15ffbc8a09",
            "7f1e37c62ed24d07b95fe14386c06d80",
            "49ef8fd73a464deaa87063d31b4551c2",
            "8ce4a8f53c544f55b94a4428261389a3",
            "e399e56fb3f149409552f9d6728ce3e1",
            "8cc85ec6b2c44c97aabaf70841c7e637",
            "2acc84fccd214d69b25feebd83fafc6e",
            "37e2337f828a4d3cadcfdefd3e292732",
            "851f4cc3bbd24910b284bea6a7aea22e",
            "b69d2fa510c7499aa6f929dbcc04fe79",
            "e1744fc17b7943b6949c99967859eb11",
            "19b628c8e90d4046bbf5d58ef350bdba",
            "bbd6d6632ba44992a8196797c8b08fdd"
          ]
        },
        "id": "kId3uecShUST",
        "outputId": "17989c0b-715a-4647-9fac-139c6b641107"
      },
      "execution_count": 139,
      "outputs": [
        {
          "output_type": "stream",
          "name": "stderr",
          "text": [
            "WARNING:absl:Variant folder /root/tensorflow_datasets/kmnist/3.0.1 has no dataset_info.json\n"
          ]
        },
        {
          "output_type": "stream",
          "name": "stdout",
          "text": [
            "Downloading and preparing dataset Unknown size (download: Unknown size, generated: Unknown size, total: Unknown size) to /root/tensorflow_datasets/kmnist/3.0.1...\n"
          ]
        },
        {
          "output_type": "display_data",
          "data": {
            "text/plain": [
              "Dl Completed...: 0 url [00:00, ? url/s]"
            ],
            "application/vnd.jupyter.widget-view+json": {
              "version_major": 2,
              "version_minor": 0,
              "model_id": "bc9a408131834673aedfef11f6809f07"
            }
          },
          "metadata": {}
        },
        {
          "output_type": "display_data",
          "data": {
            "text/plain": [
              "Dl Size...: 0 MiB [00:00, ? MiB/s]"
            ],
            "application/vnd.jupyter.widget-view+json": {
              "version_major": 2,
              "version_minor": 0,
              "model_id": "2617f71f6b254d348786f7370f538a0e"
            }
          },
          "metadata": {}
        },
        {
          "output_type": "display_data",
          "data": {
            "text/plain": [
              "Extraction completed...: 0 file [00:00, ? file/s]"
            ],
            "application/vnd.jupyter.widget-view+json": {
              "version_major": 2,
              "version_minor": 0,
              "model_id": "57606a0c60ea4cca84b901dc9d72cb87"
            }
          },
          "metadata": {}
        },
        {
          "output_type": "display_data",
          "data": {
            "text/plain": [
              "Generating splits...:   0%|          | 0/2 [00:00<?, ? splits/s]"
            ],
            "application/vnd.jupyter.widget-view+json": {
              "version_major": 2,
              "version_minor": 0,
              "model_id": "4707e8ea02de430cb63c35baaeb80b4c"
            }
          },
          "metadata": {}
        },
        {
          "output_type": "display_data",
          "data": {
            "text/plain": [
              "Generating train examples...: 0 examples [00:00, ? examples/s]"
            ],
            "application/vnd.jupyter.widget-view+json": {
              "version_major": 2,
              "version_minor": 0,
              "model_id": "0b6a61add4334fda8af1a76c0f229d25"
            }
          },
          "metadata": {}
        },
        {
          "output_type": "display_data",
          "data": {
            "text/plain": [
              "Shuffling /root/tensorflow_datasets/kmnist/incomplete.YR7OVD_3.0.1/kmnist-train.tfrecord*...:   0%|          |…"
            ],
            "application/vnd.jupyter.widget-view+json": {
              "version_major": 2,
              "version_minor": 0,
              "model_id": "22f5cbaccb88467b92cf2b3afc5d4d89"
            }
          },
          "metadata": {}
        },
        {
          "output_type": "display_data",
          "data": {
            "text/plain": [
              "Generating test examples...: 0 examples [00:00, ? examples/s]"
            ],
            "application/vnd.jupyter.widget-view+json": {
              "version_major": 2,
              "version_minor": 0,
              "model_id": "3019106fad9f4ba095d52f23e61b9fb4"
            }
          },
          "metadata": {}
        },
        {
          "output_type": "display_data",
          "data": {
            "text/plain": [
              "Shuffling /root/tensorflow_datasets/kmnist/incomplete.YR7OVD_3.0.1/kmnist-test.tfrecord*...:   0%|          | …"
            ],
            "application/vnd.jupyter.widget-view+json": {
              "version_major": 2,
              "version_minor": 0,
              "model_id": "49ef8fd73a464deaa87063d31b4551c2"
            }
          },
          "metadata": {}
        },
        {
          "output_type": "stream",
          "name": "stdout",
          "text": [
            "Dataset kmnist downloaded and prepared to /root/tensorflow_datasets/kmnist/3.0.1. Subsequent calls will reuse this data.\n"
          ]
        }
      ]
    },
    {
      "cell_type": "markdown",
      "source": [
        "### Breaking the data"
      ],
      "metadata": {
        "id": "uioIFIplMnLG"
      }
    },
    {
      "cell_type": "code",
      "source": [
        "(val_digits, val_labels, val_boxes,\n",
        " train_digits, train_labels, train_boxes,\n",
        " test_digits, test_labels, test_boxes)=dataset_to_numpy(train_ds, val_ds, test_ds, 10)"
      ],
      "metadata": {
        "id": "Nyt2tNu2hWIr"
      },
      "execution_count": 140,
      "outputs": []
    },
    {
      "cell_type": "markdown",
      "source": [
        "### Let us visualize a batch of the training data"
      ],
      "metadata": {
        "id": "xPC56Ty4M8WR"
      }
    },
    {
      "cell_type": "code",
      "source": [
        "display_digits_with_boxes(train_digits,\n",
        "                          train_labels,\n",
        "                          train_labels,  # predicted labels (same here)\n",
        "                          np.array([]),\n",
        "                          train_boxes,\n",
        "                          np.array([]),\n",
        "                          \"Training digits with labels\")"
      ],
      "metadata": {
        "colab": {
          "base_uri": "https://localhost:8080/",
          "height": 401
        },
        "id": "Ed6VvmPKhp02",
        "outputId": "23e25461-38c7-481d-d5ec-72fb85361164"
      },
      "execution_count": 141,
      "outputs": [
        {
          "output_type": "display_data",
          "data": {
            "text/plain": [
              "<Figure size 2000x500 with 11 Axes>"
            ],
            "image/png": "[encoded data removed]"
          },
          "metadata": {}
        }
      ]
    },
    {
      "cell_type": "markdown",
      "source": [
        "### This function defines a simple CNN-based feature extractor using TensorFlow Keras layers."
      ],
      "metadata": {
        "id": "62KnwLYMNdO2"
      }
    },
    {
      "cell_type": "code",
      "source": [
        "def feature_extraction(inputs):\n",
        "\n",
        "  x=tf.keras.layers.Conv2D(16, activation='relu', kernel_size=3, input_shape=(75, 75, 1))(inputs)\n",
        "  x=tf.keras.layers.AveragePooling2D((2, 2))(x)\n",
        "\n",
        "  x=tf.keras.layers.Conv2D(32, activation='relu', kernel_size=3)(x)\n",
        "  x=tf.keras.layers.AveragePooling2D((2, 2))(x)\n",
        "\n",
        "  x=tf.keras.layers.Conv2D(64, activation='relu', kernel_size=3)(x)\n",
        "  x=tf.keras.layers.AveragePooling2D((2, 2))(x)\n",
        "\n",
        "  return x"
      ],
      "metadata": {
        "id": "JsNT4bRhh5qm"
      },
      "execution_count": 142,
      "outputs": []
    },
    {
      "cell_type": "markdown",
      "source": [
        "### This function defines a simple dense block (fully connected) for a neural network"
      ],
      "metadata": {
        "id": "0THhZhHZN0NY"
      }
    },
    {
      "cell_type": "code",
      "source": [
        "def dense_layers(inputs):\n",
        "\n",
        "  x=tf.keras.layers.Flatten()(inputs)\n",
        "  x=tf.keras.layers.Dense(128, activation='relu')(x)\n",
        "\n",
        "  return x"
      ],
      "metadata": {
        "id": "4eSpeWH-npRz"
      },
      "execution_count": 143,
      "outputs": []
    },
    {
      "cell_type": "markdown",
      "source": [
        "### This function defines the classification head of the model."
      ],
      "metadata": {
        "id": "XZfOB2yxOS_C"
      }
    },
    {
      "cell_type": "code",
      "source": [
        "def classifier(inputs):\n",
        "\n",
        "  o_p=tf.keras.layers.Dense(10, activation='softmax', name='classification')(inputs)\n",
        "\n",
        "  return o_p"
      ],
      "metadata": {
        "id": "hqHqqbalnrNc"
      },
      "execution_count": 144,
      "outputs": []
    },
    {
      "cell_type": "markdown",
      "source": [
        "### This defines the bounding box regression head of the model."
      ],
      "metadata": {
        "id": "3XrZOAXOOc6V"
      }
    },
    {
      "cell_type": "code",
      "source": [
        "def bounding_box_regression(inputs):\n",
        "\n",
        "  o_p=tf.keras.layers.Dense(4, name='bounding_box')(inputs)\n",
        "\n",
        "  return o_p"
      ],
      "metadata": {
        "id": "tgb-CGvfns4q"
      },
      "execution_count": 145,
      "outputs": []
    },
    {
      "cell_type": "markdown",
      "source": [
        "### Sequential image augmentation pipeline using Keras preprocessing layers."
      ],
      "metadata": {
        "id": "8nqTMEKaOfl8"
      }
    },
    {
      "cell_type": "code",
      "source": [
        "img_aug=tf.keras.Sequential([\n",
        "    tf.keras.layers.RandomFlip('horizontal'),\n",
        "    tf.keras.layers.RandomRotation(0.2),\n",
        "    tf.keras.layers.RandomZoom(0.2),\n",
        "    tf.keras.layers.RandomContrast(0.2),\n",
        "    tf.keras.layers.RandomTranslation(0.1, 0.1)\n",
        "])"
      ],
      "metadata": {
        "id": "zUOopda2OdGT"
      },
      "execution_count": 146,
      "outputs": []
    },
    {
      "cell_type": "markdown",
      "source": [
        "### Now let us build a multi-output neural network model."
      ],
      "metadata": {
        "id": "kTTWjjwDPAFM"
      }
    },
    {
      "cell_type": "code",
      "source": [
        "def model(inputs):\n",
        "\n",
        "  inputs=img_aug(inputs)\n",
        "  feature_cnn=feature_extraction(inputs)\n",
        "  dense_o_p=dense_layers(feature_cnn)\n",
        "  classification_o_p=classifier(dense_o_p)\n",
        "  bounding_box_o_p=bounding_box_regression(dense_o_p)\n",
        "\n",
        "  Model=tf.keras.Model(inputs=inputs, outputs=[classification_o_p, bounding_box_o_p])\n",
        "\n",
        "  return Model"
      ],
      "metadata": {
        "id": "nY3qzZbAnvL-"
      },
      "execution_count": 147,
      "outputs": []
    },
    {
      "cell_type": "code",
      "source": [
        "def define_and_compile_model(inputs):\n",
        "\n",
        "  Model=model(inputs)\n",
        "  Model.compile(optimizer=\"adam\",\n",
        "                loss={\n",
        "                    \"classification\":\"categorical_crossentropy\",\n",
        "                    \"bounding_box\":\"mse\"\n",
        "                },\n",
        "                metrics={\n",
        "                    \"classification\":\"accuracy\",\n",
        "                    \"bounding_box\":\"mse\"\n",
        "                })\n",
        "\n",
        "  return Model"
      ],
      "metadata": {
        "id": "73kdqwpVnx8m"
      },
      "execution_count": 148,
      "outputs": []
    },
    {
      "cell_type": "code",
      "source": [
        "lr_sched=tf.keras.callbacks.ReduceLROnPlateau(\n",
        "    monitor=\"val_loss\",\n",
        "    patience=3,\n",
        "    factor=0.5,\n",
        "    min_lr=1e-6,\n",
        "    verbose=1\n",
        ")"
      ],
      "metadata": {
        "id": "gc_MrA1BV0FU"
      },
      "execution_count": 149,
      "outputs": []
    },
    {
      "cell_type": "code",
      "source": [
        "early_stop=tf.keras.callbacks.EarlyStopping(\n",
        "    monitor=\"val_loss\",\n",
        "    patience=5,\n",
        "    restore_best_weights=True,\n",
        "    verbose=1\n",
        ")"
      ],
      "metadata": {
        "id": "ZhNq4mrJWyaB"
      },
      "execution_count": 150,
      "outputs": []
    },
    {
      "cell_type": "code",
      "source": [
        "with strategy.scope():\n",
        "  input=tf.keras.layers.Input(shape=(75, 75, 1))\n",
        "  Model=define_and_compile_model(input)\n",
        "\n",
        "Model.summary()"
      ],
      "metadata": {
        "colab": {
          "base_uri": "https://localhost:8080/",
          "height": 680
        },
        "id": "-0nD5Dyen1nX",
        "outputId": "eae3fb39-e2f4-4f1e-e257-a83b928d243d"
      },
      "execution_count": 151,
      "outputs": [
        {
          "output_type": "stream",
          "name": "stderr",
          "text": [
            "/usr/local/lib/python3.11/dist-packages/keras/src/layers/convolutional/base_conv.py:107: UserWarning: Do not pass an `input_shape`/`input_dim` argument to a layer. When using Sequential models, prefer using an `Input(shape)` object as the first layer in the model instead.\n",
            "  super().__init__(activity_regularizer=activity_regularizer, **kwargs)\n"
          ]
        },
        {
          "output_type": "display_data",
          "data": {
            "text/plain": [
              "\u001b[1mModel: \"functional_7\"\u001b[0m\n"
            ],
            "text/html": [
              "<pre style=\"white-space:pre;overflow-x:auto;line-height:normal;font-family:Menlo,'DejaVu Sans Mono',consolas,'Courier New',monospace\"><span style=\"font-weight: bold\">Model: \"functional_7\"</span>\n",
              "</pre>\n"
            ]
          },
          "metadata": {}
        },
        {
          "output_type": "display_data",
          "data": {
            "text/plain": [
              "┏━━━━━━━━━━━━━━━━━━━━━┳━━━━━━━━━━━━━━━━━━━┳━━━━━━━━━━━━┳━━━━━━━━━━━━━━━━━━━┓\n",
              "┃\u001b[1m \u001b[0m\u001b[1mLayer (type)       \u001b[0m\u001b[1m \u001b[0m┃\u001b[1m \u001b[0m\u001b[1mOutput Shape     \u001b[0m\u001b[1m \u001b[0m┃\u001b[1m \u001b[0m\u001b[1m   Param #\u001b[0m\u001b[1m \u001b[0m┃\u001b[1m \u001b[0m\u001b[1mConnected to     \u001b[0m\u001b[1m \u001b[0m┃\n",
              "┡━━━━━━━━━━━━━━━━━━━━━╇━━━━━━━━━━━━━━━━━━━╇━━━━━━━━━━━━╇━━━━━━━━━━━━━━━━━━━┩\n",
              "│ keras_tensor_61CLO… │ (\u001b[38;5;45mNone\u001b[0m, \u001b[38;5;34m75\u001b[0m, \u001b[38;5;34m75\u001b[0m, \u001b[38;5;34m1\u001b[0m) │          \u001b[38;5;34m0\u001b[0m │ -                 │\n",
              "│ (\u001b[38;5;33mInputLayer\u001b[0m)        │                   │            │                   │\n",
              "├─────────────────────┼───────────────────┼────────────┼───────────────────┤\n",
              "│ conv2d_9 (\u001b[38;5;33mConv2D\u001b[0m)   │ (\u001b[38;5;45mNone\u001b[0m, \u001b[38;5;34m73\u001b[0m, \u001b[38;5;34m73\u001b[0m,    │        \u001b[38;5;34m160\u001b[0m │ keras_tensor_61C… │\n",
              "│                     │ \u001b[38;5;34m16\u001b[0m)               │            │                   │\n",
              "├─────────────────────┼───────────────────┼────────────┼───────────────────┤\n",
              "│ average_pooling2d_9 │ (\u001b[38;5;45mNone\u001b[0m, \u001b[38;5;34m36\u001b[0m, \u001b[38;5;34m36\u001b[0m,    │          \u001b[38;5;34m0\u001b[0m │ conv2d_9[\u001b[38;5;34m1\u001b[0m][\u001b[38;5;34m0\u001b[0m]    │\n",
              "│ (\u001b[38;5;33mAveragePooling2D\u001b[0m)  │ \u001b[38;5;34m16\u001b[0m)               │            │                   │\n",
              "├─────────────────────┼───────────────────┼────────────┼───────────────────┤\n",
              "│ conv2d_10 (\u001b[38;5;33mConv2D\u001b[0m)  │ (\u001b[38;5;45mNone\u001b[0m, \u001b[38;5;34m34\u001b[0m, \u001b[38;5;34m34\u001b[0m,    │      \u001b[38;5;34m4,640\u001b[0m │ average_pooling2… │\n",
              "│                     │ \u001b[38;5;34m32\u001b[0m)               │            │                   │\n",
              "├─────────────────────┼───────────────────┼────────────┼───────────────────┤\n",
              "│ average_pooling2d_… │ (\u001b[38;5;45mNone\u001b[0m, \u001b[38;5;34m17\u001b[0m, \u001b[38;5;34m17\u001b[0m,    │          \u001b[38;5;34m0\u001b[0m │ conv2d_10[\u001b[38;5;34m1\u001b[0m][\u001b[38;5;34m0\u001b[0m]   │\n",
              "│ (\u001b[38;5;33mAveragePooling2D\u001b[0m)  │ \u001b[38;5;34m32\u001b[0m)               │            │                   │\n",
              "├─────────────────────┼───────────────────┼────────────┼───────────────────┤\n",
              "│ conv2d_11 (\u001b[38;5;33mConv2D\u001b[0m)  │ (\u001b[38;5;45mNone\u001b[0m, \u001b[38;5;34m15\u001b[0m, \u001b[38;5;34m15\u001b[0m,    │     \u001b[38;5;34m18,496\u001b[0m │ average_pooling2… │\n",
              "│                     │ \u001b[38;5;34m64\u001b[0m)               │            │                   │\n",
              "├─────────────────────┼───────────────────┼────────────┼───────────────────┤\n",
              "│ average_pooling2d_… │ (\u001b[38;5;45mNone\u001b[0m, \u001b[38;5;34m7\u001b[0m, \u001b[38;5;34m7\u001b[0m, \u001b[38;5;34m64\u001b[0m)  │          \u001b[38;5;34m0\u001b[0m │ conv2d_11[\u001b[38;5;34m1\u001b[0m][\u001b[38;5;34m0\u001b[0m]   │\n",
              "│ (\u001b[38;5;33mAveragePooling2D\u001b[0m)  │                   │            │                   │\n",
              "├─────────────────────┼───────────────────┼────────────┼───────────────────┤\n",
              "│ flatten_3 (\u001b[38;5;33mFlatten\u001b[0m) │ (\u001b[38;5;45mNone\u001b[0m, \u001b[38;5;34m3136\u001b[0m)      │          \u001b[38;5;34m0\u001b[0m │ average_pooling2… │\n",
              "├─────────────────────┼───────────────────┼────────────┼───────────────────┤\n",
              "│ dense_3 (\u001b[38;5;33mDense\u001b[0m)     │ (\u001b[38;5;45mNone\u001b[0m, \u001b[38;5;34m128\u001b[0m)       │    \u001b[38;5;34m401,536\u001b[0m │ flatten_3[\u001b[38;5;34m1\u001b[0m][\u001b[38;5;34m0\u001b[0m]   │\n",
              "├─────────────────────┼───────────────────┼────────────┼───────────────────┤\n",
              "│ classification      │ (\u001b[38;5;45mNone\u001b[0m, \u001b[38;5;34m10\u001b[0m)        │      \u001b[38;5;34m1,290\u001b[0m │ dense_3[\u001b[38;5;34m1\u001b[0m][\u001b[38;5;34m0\u001b[0m]     │\n",
              "│ (\u001b[38;5;33mDense\u001b[0m)             │                   │            │                   │\n",
              "├─────────────────────┼───────────────────┼────────────┼───────────────────┤\n",
              "│ bounding_box        │ (\u001b[38;5;45mNone\u001b[0m, \u001b[38;5;34m4\u001b[0m)         │        \u001b[38;5;34m516\u001b[0m │ dense_3[\u001b[38;5;34m1\u001b[0m][\u001b[38;5;34m0\u001b[0m]     │\n",
              "│ (\u001b[38;5;33mDense\u001b[0m)             │                   │            │                   │\n",
              "└─────────────────────┴───────────────────┴────────────┴───────────────────┘\n"
            ],
            "text/html": [
              "<pre style=\"white-space:pre;overflow-x:auto;line-height:normal;font-family:Menlo,'DejaVu Sans Mono',consolas,'Courier New',monospace\">┏━━━━━━━━━━━━━━━━━━━━━┳━━━━━━━━━━━━━━━━━━━┳━━━━━━━━━━━━┳━━━━━━━━━━━━━━━━━━━┓\n",
              "┃<span style=\"font-weight: bold\"> Layer (type)        </span>┃<span style=\"font-weight: bold\"> Output Shape      </span>┃<span style=\"font-weight: bold\">    Param # </span>┃<span style=\"font-weight: bold\"> Connected to      </span>┃\n",
              "┡━━━━━━━━━━━━━━━━━━━━━╇━━━━━━━━━━━━━━━━━━━╇━━━━━━━━━━━━╇━━━━━━━━━━━━━━━━━━━┩\n",
              "│ keras_tensor_61CLO… │ (<span style=\"color: #00d7ff; text-decoration-color: #00d7ff\">None</span>, <span style=\"color: #00af00; text-decoration-color: #00af00\">75</span>, <span style=\"color: #00af00; text-decoration-color: #00af00\">75</span>, <span style=\"color: #00af00; text-decoration-color: #00af00\">1</span>) │          <span style=\"color: #00af00; text-decoration-color: #00af00\">0</span> │ -                 │\n",
              "│ (<span style=\"color: #0087ff; text-decoration-color: #0087ff\">InputLayer</span>)        │                   │            │                   │\n",
              "├─────────────────────┼───────────────────┼────────────┼───────────────────┤\n",
              "│ conv2d_9 (<span style=\"color: #0087ff; text-decoration-color: #0087ff\">Conv2D</span>)   │ (<span style=\"color: #00d7ff; text-decoration-color: #00d7ff\">None</span>, <span style=\"color: #00af00; text-decoration-color: #00af00\">73</span>, <span style=\"color: #00af00; text-decoration-color: #00af00\">73</span>,    │        <span style=\"color: #00af00; text-decoration-color: #00af00\">160</span> │ keras_tensor_61C… │\n",
              "│                     │ <span style=\"color: #00af00; text-decoration-color: #00af00\">16</span>)               │            │                   │\n",
              "├─────────────────────┼───────────────────┼────────────┼───────────────────┤\n",
              "│ average_pooling2d_9 │ (<span style=\"color: #00d7ff; text-decoration-color: #00d7ff\">None</span>, <span style=\"color: #00af00; text-decoration-color: #00af00\">36</span>, <span style=\"color: #00af00; text-decoration-color: #00af00\">36</span>,    │          <span style=\"color: #00af00; text-decoration-color: #00af00\">0</span> │ conv2d_9[<span style=\"color: #00af00; text-decoration-color: #00af00\">1</span>][<span style=\"color: #00af00; text-decoration-color: #00af00\">0</span>]    │\n",
              "│ (<span style=\"color: #0087ff; text-decoration-color: #0087ff\">AveragePooling2D</span>)  │ <span style=\"color: #00af00; text-decoration-color: #00af00\">16</span>)               │            │                   │\n",
              "├─────────────────────┼───────────────────┼────────────┼───────────────────┤\n",
              "│ conv2d_10 (<span style=\"color: #0087ff; text-decoration-color: #0087ff\">Conv2D</span>)  │ (<span style=\"color: #00d7ff; text-decoration-color: #00d7ff\">None</span>, <span style=\"color: #00af00; text-decoration-color: #00af00\">34</span>, <span style=\"color: #00af00; text-decoration-color: #00af00\">34</span>,    │      <span style=\"color: #00af00; text-decoration-color: #00af00\">4,640</span> │ average_pooling2… │\n",
              "│                     │ <span style=\"color: #00af00; text-decoration-color: #00af00\">32</span>)               │            │                   │\n",
              "├─────────────────────┼───────────────────┼────────────┼───────────────────┤\n",
              "│ average_pooling2d_… │ (<span style=\"color: #00d7ff; text-decoration-color: #00d7ff\">None</span>, <span style=\"color: #00af00; text-decoration-color: #00af00\">17</span>, <span style=\"color: #00af00; text-decoration-color: #00af00\">17</span>,    │          <span style=\"color: #00af00; text-decoration-color: #00af00\">0</span> │ conv2d_10[<span style=\"color: #00af00; text-decoration-color: #00af00\">1</span>][<span style=\"color: #00af00; text-decoration-color: #00af00\">0</span>]   │\n",
              "│ (<span style=\"color: #0087ff; text-decoration-color: #0087ff\">AveragePooling2D</span>)  │ <span style=\"color: #00af00; text-decoration-color: #00af00\">32</span>)               │            │                   │\n",
              "├─────────────────────┼───────────────────┼────────────┼───────────────────┤\n",
              "│ conv2d_11 (<span style=\"color: #0087ff; text-decoration-color: #0087ff\">Conv2D</span>)  │ (<span style=\"color: #00d7ff; text-decoration-color: #00d7ff\">None</span>, <span style=\"color: #00af00; text-decoration-color: #00af00\">15</span>, <span style=\"color: #00af00; text-decoration-color: #00af00\">15</span>,    │     <span style=\"color: #00af00; text-decoration-color: #00af00\">18,496</span> │ average_pooling2… │\n",
              "│                     │ <span style=\"color: #00af00; text-decoration-color: #00af00\">64</span>)               │            │                   │\n",
              "├─────────────────────┼───────────────────┼────────────┼───────────────────┤\n",
              "│ average_pooling2d_… │ (<span style=\"color: #00d7ff; text-decoration-color: #00d7ff\">None</span>, <span style=\"color: #00af00; text-decoration-color: #00af00\">7</span>, <span style=\"color: #00af00; text-decoration-color: #00af00\">7</span>, <span style=\"color: #00af00; text-decoration-color: #00af00\">64</span>)  │          <span style=\"color: #00af00; text-decoration-color: #00af00\">0</span> │ conv2d_11[<span style=\"color: #00af00; text-decoration-color: #00af00\">1</span>][<span style=\"color: #00af00; text-decoration-color: #00af00\">0</span>]   │\n",
              "│ (<span style=\"color: #0087ff; text-decoration-color: #0087ff\">AveragePooling2D</span>)  │                   │            │                   │\n",
              "├─────────────────────┼───────────────────┼────────────┼───────────────────┤\n",
              "│ flatten_3 (<span style=\"color: #0087ff; text-decoration-color: #0087ff\">Flatten</span>) │ (<span style=\"color: #00d7ff; text-decoration-color: #00d7ff\">None</span>, <span style=\"color: #00af00; text-decoration-color: #00af00\">3136</span>)      │          <span style=\"color: #00af00; text-decoration-color: #00af00\">0</span> │ average_pooling2… │\n",
              "├─────────────────────┼───────────────────┼────────────┼───────────────────┤\n",
              "│ dense_3 (<span style=\"color: #0087ff; text-decoration-color: #0087ff\">Dense</span>)     │ (<span style=\"color: #00d7ff; text-decoration-color: #00d7ff\">None</span>, <span style=\"color: #00af00; text-decoration-color: #00af00\">128</span>)       │    <span style=\"color: #00af00; text-decoration-color: #00af00\">401,536</span> │ flatten_3[<span style=\"color: #00af00; text-decoration-color: #00af00\">1</span>][<span style=\"color: #00af00; text-decoration-color: #00af00\">0</span>]   │\n",
              "├─────────────────────┼───────────────────┼────────────┼───────────────────┤\n",
              "│ classification      │ (<span style=\"color: #00d7ff; text-decoration-color: #00d7ff\">None</span>, <span style=\"color: #00af00; text-decoration-color: #00af00\">10</span>)        │      <span style=\"color: #00af00; text-decoration-color: #00af00\">1,290</span> │ dense_3[<span style=\"color: #00af00; text-decoration-color: #00af00\">1</span>][<span style=\"color: #00af00; text-decoration-color: #00af00\">0</span>]     │\n",
              "│ (<span style=\"color: #0087ff; text-decoration-color: #0087ff\">Dense</span>)             │                   │            │                   │\n",
              "├─────────────────────┼───────────────────┼────────────┼───────────────────┤\n",
              "│ bounding_box        │ (<span style=\"color: #00d7ff; text-decoration-color: #00d7ff\">None</span>, <span style=\"color: #00af00; text-decoration-color: #00af00\">4</span>)         │        <span style=\"color: #00af00; text-decoration-color: #00af00\">516</span> │ dense_3[<span style=\"color: #00af00; text-decoration-color: #00af00\">1</span>][<span style=\"color: #00af00; text-decoration-color: #00af00\">0</span>]     │\n",
              "│ (<span style=\"color: #0087ff; text-decoration-color: #0087ff\">Dense</span>)             │                   │            │                   │\n",
              "└─────────────────────┴───────────────────┴────────────┴───────────────────┘\n",
              "</pre>\n"
            ]
          },
          "metadata": {}
        },
        {
          "output_type": "display_data",
          "data": {
            "text/plain": [
              "\u001b[1m Total params: \u001b[0m\u001b[38;5;34m426,638\u001b[0m (1.63 MB)\n"
            ],
            "text/html": [
              "<pre style=\"white-space:pre;overflow-x:auto;line-height:normal;font-family:Menlo,'DejaVu Sans Mono',consolas,'Courier New',monospace\"><span style=\"font-weight: bold\"> Total params: </span><span style=\"color: #00af00; text-decoration-color: #00af00\">426,638</span> (1.63 MB)\n",
              "</pre>\n"
            ]
          },
          "metadata": {}
        },
        {
          "output_type": "display_data",
          "data": {
            "text/plain": [
              "\u001b[1m Trainable params: \u001b[0m\u001b[38;5;34m426,638\u001b[0m (1.63 MB)\n"
            ],
            "text/html": [
              "<pre style=\"white-space:pre;overflow-x:auto;line-height:normal;font-family:Menlo,'DejaVu Sans Mono',consolas,'Courier New',monospace\"><span style=\"font-weight: bold\"> Trainable params: </span><span style=\"color: #00af00; text-decoration-color: #00af00\">426,638</span> (1.63 MB)\n",
              "</pre>\n"
            ]
          },
          "metadata": {}
        },
        {
          "output_type": "display_data",
          "data": {
            "text/plain": [
              "\u001b[1m Non-trainable params: \u001b[0m\u001b[38;5;34m0\u001b[0m (0.00 B)\n"
            ],
            "text/html": [
              "<pre style=\"white-space:pre;overflow-x:auto;line-height:normal;font-family:Menlo,'DejaVu Sans Mono',consolas,'Courier New',monospace\"><span style=\"font-weight: bold\"> Non-trainable params: </span><span style=\"color: #00af00; text-decoration-color: #00af00\">0</span> (0.00 B)\n",
              "</pre>\n"
            ]
          },
          "metadata": {}
        }
      ]
    },
    {
      "cell_type": "markdown",
      "source": [
        "### Training phase"
      ],
      "metadata": {
        "id": "JuUHaED7PFmD"
      }
    },
    {
      "cell_type": "code",
      "source": [
        "EPOCHS=20\n",
        "steps_per_epoch=60000//BATCH_SIZE\n",
        "\n",
        "history=Model.fit(train_ds,\n",
        "                  steps_per_epoch=steps_per_epoch,\n",
        "                  validation_data=val_ds,\n",
        "                  validation_steps=1,\n",
        "                  epochs=EPOCHS,\n",
        "                  callbacks=[lr_sched, early_stop])\n",
        "\n",
        "loss, classification_loss, bounding_box_loss, classification_acc, bounding_box_mse=Model.evaluate(val_ds, steps=1)"
      ],
      "metadata": {
        "colab": {
          "base_uri": "https://localhost:8080/"
        },
        "id": "KZFVlAYUn5Vf",
        "outputId": "17190b54-9129-419d-cd9f-1c0e937391c5"
      },
      "execution_count": 152,
      "outputs": [
        {
          "output_type": "stream",
          "name": "stdout",
          "text": [
            "Epoch 1/20\n",
            "\u001b[1m937/937\u001b[0m \u001b[32m━━━━━━━━━━━━━━━━━━━━\u001b[0m\u001b[37m\u001b[0m \u001b[1m17s\u001b[0m 14ms/step - bounding_box_loss: 0.0218 - bounding_box_mse: 0.0218 - classification_accuracy: 0.3209 - classification_loss: 1.8456 - loss: 1.8673 - val_bounding_box_loss: 0.0143 - val_bounding_box_mse: 0.0143 - val_classification_accuracy: 0.7441 - val_classification_loss: 0.7899 - val_loss: 0.8042 - learning_rate: 0.0010\n",
            "Epoch 2/20\n",
            "\u001b[1m937/937\u001b[0m \u001b[32m━━━━━━━━━━━━━━━━━━━━\u001b[0m\u001b[37m\u001b[0m \u001b[1m10s\u001b[0m 11ms/step - bounding_box_loss: 0.0124 - bounding_box_mse: 0.0124 - classification_accuracy: 0.7905 - classification_loss: 0.6527 - loss: 0.6651 - val_bounding_box_loss: 0.0071 - val_bounding_box_mse: 0.0071 - val_classification_accuracy: 0.8563 - val_classification_loss: 0.4503 - val_loss: 0.4574 - learning_rate: 0.0010\n",
            "Epoch 3/20\n",
            "\u001b[1m937/937\u001b[0m \u001b[32m━━━━━━━━━━━━━━━━━━━━\u001b[0m\u001b[37m\u001b[0m \u001b[1m9s\u001b[0m 10ms/step - bounding_box_loss: 0.0058 - bounding_box_mse: 0.0058 - classification_accuracy: 0.8678 - classification_loss: 0.4208 - loss: 0.4265 - val_bounding_box_loss: 0.0037 - val_bounding_box_mse: 0.0037 - val_classification_accuracy: 0.9049 - val_classification_loss: 0.3037 - val_loss: 0.3074 - learning_rate: 0.0010\n",
            "Epoch 4/20\n",
            "\u001b[1m937/937\u001b[0m \u001b[32m━━━━━━━━━━━━━━━━━━━━\u001b[0m\u001b[37m\u001b[0m \u001b[1m11s\u001b[0m 11ms/step - bounding_box_loss: 0.0037 - bounding_box_mse: 0.0037 - classification_accuracy: 0.9047 - classification_loss: 0.3043 - loss: 0.3080 - val_bounding_box_loss: 0.0031 - val_bounding_box_mse: 0.0031 - val_classification_accuracy: 0.9125 - val_classification_loss: 0.2636 - val_loss: 0.2667 - learning_rate: 0.0010\n",
            "Epoch 5/20\n",
            "\u001b[1m937/937\u001b[0m \u001b[32m━━━━━━━━━━━━━━━━━━━━\u001b[0m\u001b[37m\u001b[0m \u001b[1m10s\u001b[0m 11ms/step - bounding_box_loss: 0.0029 - bounding_box_mse: 0.0029 - classification_accuracy: 0.9168 - classification_loss: 0.2650 - loss: 0.2679 - val_bounding_box_loss: 0.0028 - val_bounding_box_mse: 0.0028 - val_classification_accuracy: 0.9201 - val_classification_loss: 0.2543 - val_loss: 0.2571 - learning_rate: 0.0010\n",
            "Epoch 6/20\n",
            "\u001b[1m937/937\u001b[0m \u001b[32m━━━━━━━━━━━━━━━━━━━━\u001b[0m\u001b[37m\u001b[0m \u001b[1m10s\u001b[0m 11ms/step - bounding_box_loss: 0.0024 - bounding_box_mse: 0.0024 - classification_accuracy: 0.9304 - classification_loss: 0.2256 - loss: 0.2280 - val_bounding_box_loss: 0.0021 - val_bounding_box_mse: 0.0021 - val_classification_accuracy: 0.9338 - val_classification_loss: 0.2080 - val_loss: 0.2101 - learning_rate: 0.0010\n",
            "Epoch 7/20\n",
            "\u001b[1m937/937\u001b[0m \u001b[32m━━━━━━━━━━━━━━━━━━━━\u001b[0m\u001b[37m\u001b[0m \u001b[1m11s\u001b[0m 12ms/step - bounding_box_loss: 0.0022 - bounding_box_mse: 0.0022 - classification_accuracy: 0.9388 - classification_loss: 0.2050 - loss: 0.2072 - val_bounding_box_loss: 0.0019 - val_bounding_box_mse: 0.0019 - val_classification_accuracy: 0.9423 - val_classification_loss: 0.1876 - val_loss: 0.1895 - learning_rate: 0.0010\n",
            "Epoch 8/20\n",
            "\u001b[1m937/937\u001b[0m \u001b[32m━━━━━━━━━━━━━━━━━━━━\u001b[0m\u001b[37m\u001b[0m \u001b[1m9s\u001b[0m 9ms/step - bounding_box_loss: 0.0022 - bounding_box_mse: 0.0022 - classification_accuracy: 0.9435 - classification_loss: 0.1772 - loss: 0.1794 - val_bounding_box_loss: 0.0022 - val_bounding_box_mse: 0.0022 - val_classification_accuracy: 0.9421 - val_classification_loss: 0.1919 - val_loss: 0.1941 - learning_rate: 0.0010\n",
            "Epoch 9/20\n",
            "\u001b[1m937/937\u001b[0m \u001b[32m━━━━━━━━━━━━━━━━━━━━\u001b[0m\u001b[37m\u001b[0m \u001b[1m10s\u001b[0m 11ms/step - bounding_box_loss: 0.0021 - bounding_box_mse: 0.0021 - classification_accuracy: 0.9506 - classification_loss: 0.1624 - loss: 0.1644 - val_bounding_box_loss: 0.0020 - val_bounding_box_mse: 0.0020 - val_classification_accuracy: 0.9480 - val_classification_loss: 0.1646 - val_loss: 0.1666 - learning_rate: 0.0010\n",
            "Epoch 10/20\n",
            "\u001b[1m937/937\u001b[0m \u001b[32m━━━━━━━━━━━━━━━━━━━━\u001b[0m\u001b[37m\u001b[0m \u001b[1m10s\u001b[0m 11ms/step - bounding_box_loss: 0.0020 - bounding_box_mse: 0.0020 - classification_accuracy: 0.9534 - classification_loss: 0.1507 - loss: 0.1527 - val_bounding_box_loss: 0.0018 - val_bounding_box_mse: 0.0018 - val_classification_accuracy: 0.9543 - val_classification_loss: 0.1499 - val_loss: 0.1517 - learning_rate: 0.0010\n",
            "Epoch 11/20\n",
            "\u001b[1m937/937\u001b[0m \u001b[32m━━━━━━━━━━━━━━━━━━━━\u001b[0m\u001b[37m\u001b[0m \u001b[1m10s\u001b[0m 10ms/step - bounding_box_loss: 0.0020 - bounding_box_mse: 0.0020 - classification_accuracy: 0.9574 - classification_loss: 0.1383 - loss: 0.1402 - val_bounding_box_loss: 0.0018 - val_bounding_box_mse: 0.0018 - val_classification_accuracy: 0.9522 - val_classification_loss: 0.1540 - val_loss: 0.1558 - learning_rate: 0.0010\n",
            "Epoch 12/20\n",
            "\u001b[1m937/937\u001b[0m \u001b[32m━━━━━━━━━━━━━━━━━━━━\u001b[0m\u001b[37m\u001b[0m \u001b[1m10s\u001b[0m 10ms/step - bounding_box_loss: 0.0020 - bounding_box_mse: 0.0020 - classification_accuracy: 0.9620 - classification_loss: 0.1228 - loss: 0.1247 - val_bounding_box_loss: 0.0020 - val_bounding_box_mse: 0.0020 - val_classification_accuracy: 0.9607 - val_classification_loss: 0.1373 - val_loss: 0.1393 - learning_rate: 0.0010\n",
            "Epoch 13/20\n",
            "\u001b[1m937/937\u001b[0m \u001b[32m━━━━━━━━━━━━━━━━━━━━\u001b[0m\u001b[37m\u001b[0m \u001b[1m9s\u001b[0m 10ms/step - bounding_box_loss: 0.0019 - bounding_box_mse: 0.0019 - classification_accuracy: 0.9630 - classification_loss: 0.1226 - loss: 0.1245 - val_bounding_box_loss: 0.0019 - val_bounding_box_mse: 0.0019 - val_classification_accuracy: 0.9637 - val_classification_loss: 0.1191 - val_loss: 0.1210 - learning_rate: 0.0010\n",
            "Epoch 14/20\n",
            "\u001b[1m937/937\u001b[0m \u001b[32m━━━━━━━━━━━━━━━━━━━━\u001b[0m\u001b[37m\u001b[0m \u001b[1m10s\u001b[0m 11ms/step - bounding_box_loss: 0.0018 - bounding_box_mse: 0.0018 - classification_accuracy: 0.9661 - classification_loss: 0.1151 - loss: 0.1170 - val_bounding_box_loss: 0.0018 - val_bounding_box_mse: 0.0018 - val_classification_accuracy: 0.9597 - val_classification_loss: 0.1272 - val_loss: 0.1290 - learning_rate: 0.0010\n",
            "Epoch 15/20\n",
            "\u001b[1m937/937\u001b[0m \u001b[32m━━━━━━━━━━━━━━━━━━━━\u001b[0m\u001b[37m\u001b[0m \u001b[1m10s\u001b[0m 10ms/step - bounding_box_loss: 0.0019 - bounding_box_mse: 0.0019 - classification_accuracy: 0.9666 - classification_loss: 0.1095 - loss: 0.1115 - val_bounding_box_loss: 0.0016 - val_bounding_box_mse: 0.0016 - val_classification_accuracy: 0.9618 - val_classification_loss: 0.1337 - val_loss: 0.1353 - learning_rate: 0.0010\n",
            "Epoch 16/20\n",
            "\u001b[1m937/937\u001b[0m \u001b[32m━━━━━━━━━━━━━━━━━━━━\u001b[0m\u001b[37m\u001b[0m \u001b[1m10s\u001b[0m 10ms/step - bounding_box_loss: 0.0018 - bounding_box_mse: 0.0018 - classification_accuracy: 0.9684 - classification_loss: 0.1009 - loss: 0.1027 - val_bounding_box_loss: 0.0018 - val_bounding_box_mse: 0.0018 - val_classification_accuracy: 0.9637 - val_classification_loss: 0.1182 - val_loss: 0.1199 - learning_rate: 0.0010\n",
            "Epoch 17/20\n",
            "\u001b[1m937/937\u001b[0m \u001b[32m━━━━━━━━━━━━━━━━━━━━\u001b[0m\u001b[37m\u001b[0m \u001b[1m8s\u001b[0m 9ms/step - bounding_box_loss: 0.0018 - bounding_box_mse: 0.0018 - classification_accuracy: 0.9688 - classification_loss: 0.0999 - loss: 0.1017 - val_bounding_box_loss: 0.0017 - val_bounding_box_mse: 0.0017 - val_classification_accuracy: 0.9646 - val_classification_loss: 0.1150 - val_loss: 0.1167 - learning_rate: 0.0010\n",
            "Epoch 18/20\n",
            "\u001b[1m937/937\u001b[0m \u001b[32m━━━━━━━━━━━━━━━━━━━━\u001b[0m\u001b[37m\u001b[0m \u001b[1m10s\u001b[0m 11ms/step - bounding_box_loss: 0.0017 - bounding_box_mse: 0.0017 - classification_accuracy: 0.9723 - classification_loss: 0.0939 - loss: 0.0956 - val_bounding_box_loss: 0.0018 - val_bounding_box_mse: 0.0018 - val_classification_accuracy: 0.9649 - val_classification_loss: 0.1144 - val_loss: 0.1162 - learning_rate: 0.0010\n",
            "Epoch 19/20\n",
            "\u001b[1m937/937\u001b[0m \u001b[32m━━━━━━━━━━━━━━━━━━━━\u001b[0m\u001b[37m\u001b[0m \u001b[1m9s\u001b[0m 10ms/step - bounding_box_loss: 0.0017 - bounding_box_mse: 0.0017 - classification_accuracy: 0.9740 - classification_loss: 0.0873 - loss: 0.0889 - val_bounding_box_loss: 0.0016 - val_bounding_box_mse: 0.0016 - val_classification_accuracy: 0.9647 - val_classification_loss: 0.1149 - val_loss: 0.1166 - learning_rate: 0.0010\n",
            "Epoch 20/20\n",
            "\u001b[1m937/937\u001b[0m \u001b[32m━━━━━━━━━━━━━━━━━━━━\u001b[0m\u001b[37m\u001b[0m \u001b[1m9s\u001b[0m 10ms/step - bounding_box_loss: 0.0017 - bounding_box_mse: 0.0017 - classification_accuracy: 0.9736 - classification_loss: 0.0832 - loss: 0.0850 - val_bounding_box_loss: 0.0016 - val_bounding_box_mse: 0.0016 - val_classification_accuracy: 0.9682 - val_classification_loss: 0.1162 - val_loss: 0.1178 - learning_rate: 0.0010\n",
            "Restoring model weights from the end of the best epoch: 18.\n",
            "\u001b[1m1/1\u001b[0m \u001b[32m━━━━━━━━━━━━━━━━━━━━\u001b[0m\u001b[37m\u001b[0m \u001b[1m1s\u001b[0m 1s/step - bounding_box_loss: 0.0018 - bounding_box_mse: 0.0018 - classification_accuracy: 0.9681 - classification_loss: 0.1048 - loss: 0.1066   \n"
          ]
        }
      ]
    },
    {
      "cell_type": "markdown",
      "source": [
        "### Let us visualize the metrics"
      ],
      "metadata": {
        "id": "phAFXbCEPLa9"
      }
    },
    {
      "cell_type": "code",
      "source": [
        "plot_metrics(history, \"bounding_box_mse\", \"Bounding Box MSE\")"
      ],
      "metadata": {
        "colab": {
          "base_uri": "https://localhost:8080/",
          "height": 452
        },
        "id": "zWxVtsxhn-T5",
        "outputId": "b7c20502-a8a4-4da6-ac62-fc88bd8f4549"
      },
      "execution_count": 153,
      "outputs": [
        {
          "output_type": "display_data",
          "data": {
            "text/plain": [
              "<Figure size 640x480 with 1 Axes>"
            ],
            "image/png": "[encoded data removed]"
          },
          "metadata": {}
        }
      ]
    },
    {
      "cell_type": "code",
      "source": [
        "plot_metrics(history, \"classification_accuracy\", \"Classification Accuracy\")"
      ],
      "metadata": {
        "colab": {
          "base_uri": "https://localhost:8080/",
          "height": 452
        },
        "id": "a6uzYKMnslpY",
        "outputId": "f02e5ae0-9658-409c-9e3e-8b69e7630ad3"
      },
      "execution_count": 154,
      "outputs": [
        {
          "output_type": "display_data",
          "data": {
            "text/plain": [
              "<Figure size 640x480 with 1 Axes>"
            ],
            "image/png": "[encoded data removed]"
          },
          "metadata": {}
        }
      ]
    },
    {
      "cell_type": "code",
      "source": [
        "plot_metrics(history, \"classification_loss\", \"Classification Loss\")"
      ],
      "metadata": {
        "colab": {
          "base_uri": "https://localhost:8080/",
          "height": 452
        },
        "id": "ToTaxftHsobG",
        "outputId": "caee60f2-2f88-49de-f1b2-89d63440996f"
      },
      "execution_count": 155,
      "outputs": [
        {
          "output_type": "display_data",
          "data": {
            "text/plain": [
              "<Figure size 640x480 with 1 Axes>"
            ],
            "image/png": "[encoded data removed]"
          },
          "metadata": {}
        }
      ]
    },
    {
      "cell_type": "markdown",
      "source": [
        "### This function computes the Intersection over Union (IOU) between predicted and ground truth bounding boxes."
      ],
      "metadata": {
        "id": "Xlgou9eCPxi-"
      }
    },
    {
      "cell_type": "code",
      "source": [
        "def intersection_over_union(pred_box, true_box):\n",
        "\n",
        "  xmin_pred, ymin_pred, xmax_pred, ymax_pred=np.split(pred_box, 4, axis=1)\n",
        "  xmin_true, ymin_true, xmax_true, ymax_true=np.split(true_box, 4, axis=1)\n",
        "\n",
        "  smoothing_factor=1e-10\n",
        "\n",
        "  xmin_overlap=np.maximum(xmin_pred, xmin_true)\n",
        "  xmax_overlap=np.minimum(xmax_pred, xmax_true)\n",
        "  ymin_overlap=np.maximum(ymin_pred, ymin_true)\n",
        "  ymax_overlap=np.minimum(ymax_pred, ymax_true)\n",
        "\n",
        "  pred_box_area=(xmax_pred-xmin_pred)*(ymax_pred-ymin_pred)\n",
        "  true_box_area=(xmax_true-xmin_true)*(ymax_true-ymin_true)\n",
        "\n",
        "  overlap_area=np.maximum((xmax_overlap-xmin_overlap), 0)*np.maximum((ymax_overlap-ymin_overlap), 0)\n",
        "  union_area=pred_box_area+true_box_area-overlap_area\n",
        "\n",
        "  iou=(overlap_area+smoothing_factor)/(union_area+smoothing_factor)\n",
        "  iou=np.round(iou, 4)\n",
        "\n",
        "  return iou"
      ],
      "metadata": {
        "id": "yQ5UBQDksqVy"
      },
      "execution_count": 156,
      "outputs": []
    },
    {
      "cell_type": "markdown",
      "source": [
        "### Let us make the predictions"
      ],
      "metadata": {
        "id": "Cbj_IlF5P30D"
      }
    },
    {
      "cell_type": "code",
      "source": [
        "from sklearn.metrics import accuracy_score"
      ],
      "metadata": {
        "id": "cmF4pntsTb5G"
      },
      "execution_count": 157,
      "outputs": []
    },
    {
      "cell_type": "code",
      "source": [
        "prediction=Model.predict(val_digits, batch_size=BATCH_SIZE)\n",
        "predicted_labels=np.argmax(prediction[0], axis=1)\n",
        "predicted_boxes=prediction[1]"
      ],
      "metadata": {
        "colab": {
          "base_uri": "https://localhost:8080/"
        },
        "id": "GzRaYMMCs5L1",
        "outputId": "b0732a55-12d2-41c0-8729-8bed8e87078b"
      },
      "execution_count": 158,
      "outputs": [
        {
          "output_type": "stream",
          "name": "stdout",
          "text": [
            "\u001b[1m157/157\u001b[0m \u001b[32m━━━━━━━━━━━━━━━━━━━━\u001b[0m\u001b[37m\u001b[0m \u001b[1m1s\u001b[0m 4ms/step\n"
          ]
        }
      ]
    },
    {
      "cell_type": "code",
      "source": [
        "acc_v=accuracy_score(val_labels, predicted_labels)\n",
        "print(f\"Accuracy : {acc_v*100}%\")"
      ],
      "metadata": {
        "colab": {
          "base_uri": "https://localhost:8080/"
        },
        "id": "z4sDpcXCQ8e4",
        "outputId": "d7063ed3-43a0-4b89-ce5b-e66f1370b2aa"
      },
      "execution_count": 159,
      "outputs": [
        {
          "output_type": "stream",
          "name": "stdout",
          "text": [
            "Accuracy : 96.53%\n"
          ]
        }
      ]
    },
    {
      "cell_type": "code",
      "source": [
        "iou=intersection_over_union(predicted_boxes, val_boxes)\n",
        "display_digits_with_boxes(val_digits,\n",
        "                          predicted_labels,\n",
        "                          val_labels,\n",
        "                          predicted_boxes,\n",
        "                          val_boxes,\n",
        "                          iou,\n",
        "                          \"Actual and Predicted values for validation dataset\")"
      ],
      "metadata": {
        "colab": {
          "base_uri": "https://localhost:8080/",
          "height": 401
        },
        "id": "brTMbRnSta21",
        "outputId": "a4596886-704f-441c-8250-c39083f99fb7"
      },
      "execution_count": 160,
      "outputs": [
        {
          "output_type": "display_data",
          "data": {
            "text/plain": [
              "<Figure size 2000x500 with 11 Axes>"
            ],
            "image/png": "[encoded data removed]"
          },
          "metadata": {}
        }
      ]
    },
    {
      "cell_type": "code",
      "source": [
        "prediction=Model.predict(test_digits, batch_size=BATCH_SIZE)\n",
        "predicted_labels=np.argmax(prediction[0], axis=1)\n",
        "predicted_boxes=prediction[1]"
      ],
      "metadata": {
        "colab": {
          "base_uri": "https://localhost:8080/"
        },
        "id": "SO4koyiNuJH3",
        "outputId": "3b2b49c8-3901-494d-eda3-60b69d85ed2d"
      },
      "execution_count": 161,
      "outputs": [
        {
          "output_type": "stream",
          "name": "stdout",
          "text": [
            "\u001b[1m157/157\u001b[0m \u001b[32m━━━━━━━━━━━━━━━━━━━━\u001b[0m\u001b[37m\u001b[0m \u001b[1m0s\u001b[0m 2ms/step\n"
          ]
        }
      ]
    },
    {
      "cell_type": "code",
      "source": [
        "acc_t=accuracy_score(test_labels, predicted_labels)\n",
        "print(f\"Accuracy : {acc_t*100}%\")"
      ],
      "metadata": {
        "colab": {
          "base_uri": "https://localhost:8080/"
        },
        "id": "x_ryYxPRRBC2",
        "outputId": "c801b416-a718-47c5-f907-44e258895d9b"
      },
      "execution_count": 162,
      "outputs": [
        {
          "output_type": "stream",
          "name": "stdout",
          "text": [
            "Accuracy : 91.58%\n"
          ]
        }
      ]
    },
    {
      "cell_type": "code",
      "source": [
        "iou=intersection_over_union(predicted_boxes, test_boxes)\n",
        "display_digits_with_boxes(test_digits,\n",
        "                          predicted_labels,\n",
        "                          test_labels,\n",
        "                          predicted_boxes,\n",
        "                          test_boxes,\n",
        "                          iou,\n",
        "                          \"Actual and Predicted values for test dataset\")"
      ],
      "metadata": {
        "colab": {
          "base_uri": "https://localhost:8080/",
          "height": 401
        },
        "id": "-0nu61JkuOnI",
        "outputId": "c625b115-8189-44ba-c66f-2a9c4852305f"
      },
      "execution_count": 163,
      "outputs": [
        {
          "output_type": "display_data",
          "data": {
            "text/plain": [
              "<Figure size 2000x500 with 11 Axes>"
            ],
            "image/png": "[encoded data removed]"
          },
          "metadata": {}
        }
      ]
    },
    {
      "cell_type": "code",
      "source": [],
      "metadata": {
        "id": "8Z_cx91WZmWp"
      },
      "execution_count": 163,
      "outputs": []
    }
  ]
}